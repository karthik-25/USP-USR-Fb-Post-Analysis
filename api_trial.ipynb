{
 "cells": [
  {
   "cell_type": "code",
   "execution_count": 1,
   "metadata": {
    "collapsed": false
   },
   "outputs": [
    {
     "name": "stdout",
     "output_type": "stream",
     "text": [
      "Death by fatty liver disease: Research led by Prof Koh Woon Puay from Duke-NUS Medical School and NUS Saw Swee Hock School of Public Health suggests its link to diabetes. Non-alcoholic fatty liver disease is also even more fatal to LEAN diabetics than their overweight counterparts! #NUSResearch :O\n",
      "Duke-NUS Medical School researchers uncover a possible link between #autism and mutations in the gene CDH13, which affects communications between brain cells! #NUSResearch\n",
      "Kudos to the NUS Kendo Club for hosting the 6th Inter-Club Kendo Tournament over the weekend! This tournament is the largest Kendo tournament in Singapore with over 250 matches fought across 2 days! #NUSLife\n"
     ]
    }
   ],
   "source": [
    "import json\n",
    "\n",
    "s = '''\n",
    "{\n",
    "  \"data\": [\n",
    "    {\n",
    "      \"message\": \"Death by fatty liver disease: Research led by Prof Koh Woon Puay from Duke-NUS Medical School and NUS Saw Swee Hock School of Public Health suggests its link to diabetes. Non-alcoholic fatty liver disease is also even more fatal to LEAN diabetics than their overweight counterparts! #NUSResearch :O\",\n",
    "      \"created_time\": \"2017-01-24T23:30:00+0000\",\n",
    "      \"id\": \"176017608539_10154948281633540\"\n",
    "    },\n",
    "    {\n",
    "      \"message\": \"Duke-NUS Medical School researchers uncover a possible link between #autism and mutations in the gene CDH13, which affects communications between brain cells! #NUSResearch\",\n",
    "      \"created_time\": \"2017-01-24T09:30:00+0000\",\n",
    "      \"id\": \"176017608539_10154947369638540\"\n",
    "    },\n",
    "    {\n",
    "      \"message\": \"Kudos to the NUS Kendo Club for hosting the 6th Inter-Club Kendo Tournament over the weekend! This tournament is the largest Kendo tournament in Singapore with over 250 matches fought across 2 days! #NUSLife\",\n",
    "      \"story\": \"National University of Singapore added 6 new photos.\",\n",
    "      \"created_time\": \"2017-01-23T23:30:00+0000\",\n",
    "      \"id\": \"176017608539_10154944316498540\"\n",
    "    }\n",
    "  ],\n",
    "  \"paging\": {\n",
    "    \"previous\": \"https://graph.facebook.com/v2.8/176017608539/feed?format=json&since=1485300600&access_token=EAACEdEose0cBAFjy2ZAj71heO1XeidAC7SBulciDEPoj1jk7DWQE2Y99l385BPXSoeCdDlZAZBqhKGUTtFiNCDDZB0R7hoIuIFmRxsR7wJSZCZAggM29jJA8yNtFXZBWWWya9mKLXjJdZAclGzjLmRPjzpR7QFmbDY8MEUnbv4M9LQZDZD&limit=25&__paging_token=enc_AdD7HgPDipclHhGVdTPwCds4slEnISqaGFATbq18iHt2ZAZCRkTiZBkB4fd9RK11vHAvFAjEr3dvBqJ3D5Jl2xAfr3w5OvhnxsBsFTPsoZBz8fkpxQZDZD&__previous=1\",\n",
    "    \"next\": \"https://graph.facebook.com/v2.8/176017608539/feed?format=json&access_token=EAACEdEose0cBAFjy2ZAj71heO1XeidAC7SBulciDEPoj1jk7DWQE2Y99l385BPXSoeCdDlZAZBqhKGUTtFiNCDDZB0R7hoIuIFmRxsR7wJSZCZAggM29jJA8yNtFXZBWWWya9mKLXjJdZAclGzjLmRPjzpR7QFmbDY8MEUnbv4M9LQZDZD&limit=25&until=1484352257&__paging_token=enc_AdCnea2bNzoUCjZALmXIZAwIZBLgXArRFEhyXxv5mYPi3BSdKd9hRuOJtkdNTy17c3s6cwmYuZCqd3y66p0yNUbFcjWySzbTU1ZBh7gmwgmvX3GWq0wZDZD\"\n",
    "  }\n",
    "}\n",
    "'''\n",
    "\n",
    "\n",
    "j = json.loads(s)\n",
    "for x in j['data']:\n",
    "  print x[\"message\"]\n",
    "\n",
    "\n",
    "\n",
    "  "
   ]
  },
  {
   "cell_type": "code",
   "execution_count": null,
   "metadata": {
    "collapsed": true
   },
   "outputs": [],
   "source": []
  }
 ],
 "metadata": {
  "kernelspec": {
   "display_name": "Python 2",
   "language": "python",
   "name": "python2"
  },
  "language_info": {
   "codemirror_mode": {
    "name": "ipython",
    "version": 2
   },
   "file_extension": ".py",
   "mimetype": "text/x-python",
   "name": "python",
   "nbconvert_exporter": "python",
   "pygments_lexer": "ipython2",
   "version": "2.7.10"
  }
 },
 "nbformat": 4,
 "nbformat_minor": 1
}
