{
 "cells": [
  {
   "cell_type": "code",
   "execution_count": 41,
   "metadata": {
    "collapsed": false
   },
   "outputs": [
    {
     "name": "stdout",
     "output_type": "stream",
     "text": [
      "https://graph.facebook.com/leehsienloong/posts?access_token=EAACEdEose0cBAMXhj8HOEjIt0xfZBZAZAJtJX2UC8OFll9eqwd5Kftz0b8ZBvMmZCXvtNqQwaa0gs28MAZCthtA9PtPLuLwW41slrm9v2cF8kkeTnGpZB5xpmhKA2oqC4Q5Fv5vzCr1ZCDwVwt9ohl0OcRzQmZCd3KanrnFPwmb2mYwZDZD\n"
     ]
    }
   ],
   "source": [
    "import os\n",
    "import json\n",
    "import urllib\n",
    "import pprint\n",
    "\n",
    "# get Facebook access token from environment variable\n",
    "ACCESS_TOKEN = \"\"\n",
    "\n",
    "#api call for getting likes and reactions\n",
    "likes_reaction_count = \"/v2.8/1345263892202980?fields=likes.limit(0).summary(true),reactions.type(LOVE).limit(0).summary(total_count).as(reactions_love),reactions.type(WOW).limit(0).summary(total_count).as(reactions_wow),reactions.type(HAHA).limit(0).summary(total_count).as(reactions_haha),reactions.type(SAD).limit(0).summary(total_count).as(reactions_sad),reactions.type(ANGRY).limit(0).summary(total_count).as(reactions_angry)\"\n",
    "\n",
    "# build the URL for the API endpoint\n",
    "host = \"https://graph.facebook.com\"\n",
    "path = \"/leehsienloong/posts\"\n",
    "params = urllib.urlencode({\"access_token\": ACCESS_TOKEN})\n",
    "\n",
    "url = \"{host}{path}?{params}\".format(host=host, path=path, params=params)\n",
    "print url\n",
    "\n",
    "#url2 = \"https://graph.facebook.com/v2.8/1345263892202980?fields=likes.limit(0).summary(true)%2Creactions.type(LOVE).limit(0).summary(total_count).as(reactions_love)%2Creactions.type(WOW).limit(0).summary(total_count).as(reactions_wow)%2Creactions.type(HAHA).limit(0).summary(total_count).as(reactions_haha)%2Creactions.type(SAD).limit(0).summary(total_count).as(reactions_sad)%2Creactions.type(ANGRY).limit(0).summary(total_count).as(reactions_angry)&access_token=EAACEdEose0cBABWLLlNPZAVmEN7ZBThei8G9EqckudOJhBbQmUZCqzxOUGzjCQTv5moDHA1S87nGIPqEbxuuoXF9f0yzDfQhFfBLVokICBDtnzcYtRH3ZBLEhOkEewZBW7RQVQLXNvRHEd1btRYlaj2IFU1TKPDLDZBeBPYmzZB1wZDZD\"\n",
    "\n",
    "# open the URL and read the response\n",
    "resp = urllib.urlopen(url2).read()\n",
    "\n",
    "# convert the returned JSON string to a Python datatype \n",
    "#likes = json.loads(resp)\n",
    "\n",
    "#d = pmlee[\"data\"][0]\n",
    "#print d[\"message\"]\n",
    "# display the result\n",
    "#pprint.pprint(likes)\n",
    "\n"
   ]
  },
  {
   "cell_type": "code",
   "execution_count": 55,
   "metadata": {
    "collapsed": false
   },
   "outputs": [
    {
     "name": "stdout",
     "output_type": "stream",
     "text": [
      "{u'data': [{u'created_time': u'2017-01-27T01:02:21+0000',\n",
      "            u'id': u'125845680811480_1347625838633452',\n",
      "            u'message': u'For everyone celebrating #ChineseNewYear, I hope you are all prepared! Tonight, Chinese families will be gathering for their reunion dinner. If you can\\u2019t make it tonight because of work or other reasons, I hope you have arranged to celebrate it earlier, or hold it on another night. The reunion dinner is an ancient tradition, reminding us of what is truly important in life as we enter into the New Year \\u2013 family, loved ones and friends. \\n\\nThe lunar new year is also a time to reflect on what others have done for us and how we can pay it forward for our future generations. Find out more from my Chinese New Year Message by clicking on the article below.\\n\\nMay you have a joyful reunion dinner and an abundance of happiness, health and wealth in the Rooster Year! \\u2013 LHL\\n\\n\\u519c\\u5386\\u65b0\\u5e74\\u662f\\u9616\\u5bb6\\u540c\\u6b22\\u5171\\u5e86\\u3001\\u5171\\u4eab\\u5929\\u4f26\\u7684\\u91cd\\u8981\\u8282\\u65e5\\uff0c \\u4e5f\\u662f\\u8ba9\\u6211\\u4eec\\u53cd\\u601d\\u8fc7\\u53bb\\uff0c\\u5e76\\u4e14\\u611f\\u6069\\u60dc\\u798f\\u7684\\u65f6\\u523b\\u3002\\u5728\\u56de\\u987e\\u8fc7\\u53bb\\u65f6\\uff0c\\u6211\\u4eec\\u5fc5\\u987b\\u5c55\\u671b\\u672a\\u6765\\uff0c \\u672a\\u96e8\\u7ef8\\u7f2a\\uff0c \\u4ee5\\u5e94\\u4ed8\\u672a\\u6765\\u7684\\u6311\\u6218\\u3002\\u66f4\\u591a\\u8be6\\u60c5\\u5728\\u65b0\\u6625\\u732e\\u8bcd\\u91cc\\uff0c\\u8bf7\\u70b9\\u51fb\\u4ee5\\u4e0b http://bit.ly/2j9GXWE.\\n\\n\\u8c28\\u795d\\u5927\\u5bb6\\u9e21\\u5e74\\u5927\\u5409\\u3001\\u4e07\\u4e8b\\u5982\\u610f\\u3001\\u65b0\\u5e74\\u5feb\\u4e50\\uff01\\u2013 \\u674e\\u663e\\u9f99',\n",
      "            u'story': u'Lee Hsien Loong shared their note.'},\n",
      "           {u'created_time': u'2017-01-27T01:01:14+0000',\n",
      "            u'id': u'125845680811480_1347621585300544',\n",
      "            u'message': u'Chinese New Year Message 2017',\n",
      "            u'story': u'Lee Hsien Loong published a note.'},\n",
      "           {u'created_time': u'2017-01-25T02:02:11+0000',\n",
      "            u'id': u'125845680811480_1345263892202980',\n",
      "            u'message': u'I met Shahrie and his family during a #jalanjalan at the Children\\u2019s Garden at Gardens by the Bay earlier this month. He saw me taking photos, so sent me his own dramatic shot, saying that it \"shows how free, fun and safe Singapore is and I hope it will stay this way forever\". :)\\n\\nThanks for sharing your photo, Shahrie. Glad to see your family enjoying the Gardens. It\\u2019s certainly a beautiful place to visit. Why not pay a visit during the upcoming long weekend? \\u2013 LHL\\n\\n(Photo courtesy of Shahrie Mohammad)'},\n",
      "           {u'created_time': u'2017-01-24T02:30:16+0000',\n",
      "            u'id': u'125845680811480_1344119432317426',\n",
      "            u'message': u'It\\u2019s Chinese New Year this weekend. For many of us, that means indulging in our favourite treats! The festivities wouldn\\u2019t be the same without bak kwa, yusheng, and (especially) pineapple tarts! Alas, the reason they taste so good is the same reason why too much would be bad for us \\u2013 they\\u2019re laden with sugar. \\n\\nHere\\u2019s one way to combat sugar, but we don\\u2019t have to be a kungfu master. Just be aware of what we eat and exercise moderation.  \\n\\n\\u7cd6\\u4efd\\u6cb9\\u76d0\\u8981\\u628a\\u5173, \\u5403\\u7684\\u5065\\u5eb7\\u8fc7\\u597d\\u5e74 :) \\u2013 LHL\\n\\nGov.sg',\n",
      "            u'story': u\"Lee Hsien Loong shared Gov.sg's video.\"},\n",
      "           {u'created_time': u'2017-01-24T02:04:02+0000',\n",
      "            u'id': u'125845680811480_1344095408986495',\n",
      "            u'message': u'MCI Photo by Betty Chua',\n",
      "            u'story': u'Lee Hsien Loong updated their profile picture.'},\n",
      "           {u'created_time': u'2017-01-24T02:01:21+0000',\n",
      "            u'id': u'125845680811480_1344091652320204',\n",
      "            u'message': u'It\\u2019s just a few days more to Chinese New Year and the Year of the Rooster! This family of chickens live at the open field next to the Central Fire Station. It looks like the rooster is spreading its wings to protect the hen and the tiny chick half hidden in the grass! A timely reminder of the importance of family, even as we busy ourselves with shopping and chores during this festive season. \\n\\nWishing everyone a happy and prosperous Year of the Rooster! \\u2013 LHL\\n\\n(MCI Photo by Chwee)',\n",
      "            u'story': u'Lee Hsien Loong updated their cover photo.'},\n",
      "           {u'created_time': u'2017-01-23T02:36:59+0000',\n",
      "            u'id': u'125845680811480_1342789082450461',\n",
      "            u'message': u'Fengshan is well-known for its hawker centre (the bak chor mee is especially good :) ). Sadly I missed going there, but I enjoyed seeing other parts of Fengshan during my community visit yesterday. \\n \\nIt was cloudy, but the weather held and our activities were not rained out. Early CNY celebrations had already started so festive cheer was in the air!\\n\\nMany thanks to MP Cheryl Chan for showing me around. Cheryl and her team are doing a good job. I hope residents will work with them to make Fengshan the best home for all! \\u2013 LHL',\n",
      "            u'story': u'Lee Hsien Loong added 5 new photos to the album: Community Visit to Fengshan.'},\n",
      "           {u'created_time': u'2017-01-23T02:01:52+0000',\n",
      "            u'id': u'125845680811480_1342761115786591',\n",
      "            u'message': u'Visited Fengshan yesterday to join in the early CNY celebrations. I had not been in Fengshan for quite a while (though I visited SMS Maliki nearby in Siglap a little over three years ago), so was happy to see families and residents enjoying their Sunday at various community events. Many thanks to MP Cheryl Chan and her team for keeping Fengshan\\u2019s community spirit strong! \\u2013 LHL\\n\\n(PMO Video by Chiez How & Alex Qiu)',\n",
      "            u'story': u'Lee Hsien Loong with Dr Maliki Osman.'},\n",
      "           {u'created_time': u'2017-01-22T02:03:47+0000',\n",
      "            u'id': u'125845680811480_1341667435895959',\n",
      "            u'message': u'Christmas and Chinese New Year share several things in common \\u2013 the colour red, spending time with family, and the belief that it\\u2019s better to give than receive.\\n\\nStarted out yesterday morning by handing out hongbaos to needy residents, and visiting my two wet markets, where old and young were shopping for the New Year. \\n\\nThe festive mood is in the air again! How are you preparing for the holidays? \\u2013 LHL',\n",
      "            u'story': u'Lee Hsien Loong added 6 new photos to the album: Teck Ghee Hongbao Presentation and Market Visit 2017.'},\n",
      "           {u'created_time': u'2017-01-21T03:58:23+0000',\n",
      "            u'id': u'125845680811480_1340657695996933',\n",
      "            u'message': u'Fielded a wide range of questions at the Pioneering the Future Series forum jointly presented by the EDB Society and The Straits Times last night.\\n\\nAs expected at a gathering of current and former EDB officers, I was asked about the economy and business, particularly the uncertain global outlook and protectionist sentiments. Other attendees raised relations with China and the US, and of course, politics and succession. My thanks to Han Fook Kwang, ST Editor-at-Large, for ably moderating an interesting discussion!\\n\\nYou can watch the full forum session here: http://bit.ly/2kayPFj \\n\\n\\u2013 LHL\\n \\n(MCI Photo by Kenji Soon)'},\n",
      "           {u'created_time': u'2017-01-20T02:02:28+0000',\n",
      "            u'id': u'125845680811480_1339646786098024',\n",
      "            u'message': u\"Caught this colourful sunset last Friday on a #jalanjalan in Labrador Nature Reserve, one of four protected nature reserves in Singapore. The beach and mudflats along the shore contrast with the Labrador Park Jetty beyond, and the distinctive silhouette of cranes at PSA Singapore's Pasir Panjang wharves in the distance. \\n\\nBesides the rich biodiversity, the reserve also contains historic landmarks such as the Berlayer Beacon and Fort Pasir Panjang \\u2013 both important connections to our maritime and colonial past. \\n\\nWhether you are a nature or history lover, the Reserve has something for you. Why not pay a visit this weekend, and treat yourself to some greenery and fresh air. :) \\u2013 LHL\\n\\n(Photo by me)\"},\n",
      "           {u'created_time': u'2017-01-19T02:20:47+0000',\n",
      "            u'id': u'125845680811480_1338708569525179',\n",
      "            u'message': u'#ASEAN tourism not only helps grow our economies and create jobs, but also draws our peoples closer together. \\n\\nGlad to launch the Visit ASEAN@50 campaign at the ASEAN Tourism Forum last night. This year is ASEAN\\u2019s 50th anniversary, a significant milestone.\\n\\nVisit ASEAN@50 will promote ASEAN as one tourist destination. In these uncertain times, countries need closer regional cooperation, to create opportunities and benefits for all of us.\\n\\nYou can view my speech here: https://youtu.be/fk-bJGykMEs \\n \\u2013 LHL\\n\\n#ATF2017 #tourism',\n",
      "            u'story': u'Lee Hsien Loong added 3 new photos to the album: ASEAN Tourism Forum Opening Ceremony & Dinner \\u2014 with Alemay Fernandez and 14 others at Shangri-La Hotel, Singapore.'},\n",
      "           {u'created_time': u'2017-01-17T14:01:01+0000',\n",
      "            u'id': u'125845680811480_1337171789678857',\n",
      "            u'message': u'Starting the season with an early lo hei! Hosted dinner for PM Bill English, his wife Mary, and his delegation tonight at the Civil Service Club in Changi Village. They were flying home to New Zealand and in transit for a few hours.\\n\\nThis was my first meeting with PM English since he took over from John Key. He had just visited several European countries, so we talked about developments in Europe, and around the world.\\n\\nSingapore and New Zealand are old friends. I am confident that our strong ties will deepen further under PM English\\u2019s leadership. Looking forward to doing more with New Zealand. \\u2013 LHL\\n \\n(MCI Photo by Chwee)',\n",
      "            u'story': u'Lee Hsien Loong with Josephine Teo.'},\n",
      "           {u'created_time': u'2017-01-16T03:14:02+0000',\n",
      "            u'id': u'125845680811480_1335883193141050',\n",
      "            u'message': u'Delighted to join many others at the joyous wedding celebration of Parliamentary Secretary Amrin Amin and his wife, Dr Shariffah Nadia Aljunied yesterday!\\n\\nAmrin\\u2019s fellow MPs from Sembawang GRC, past and present, were also there to wish the newlyweds all the very best as they start life together as a couple.\\n\\nCongratulations, Amrin and Nadia! May you find happiness and contentment with each other. I wish you many years of love and laughter. :)  \\u2013 LHL',\n",
      "            u'story': u'Lee Hsien Loong added 5 new photos to the album: Wedding of Amrin Amin & Shariffah Nadia Aljunied \\u2014 with Malik Hamza Zikria and 6 others.'},\n",
      "           {u'created_time': u'2017-01-15T14:33:56+0000',\n",
      "            u'id': u'125845680811480_1335365573192812',\n",
      "            u'message': u'Congratulations to all students and their families who came to the Edusave and Teck Ghee CCC Bursary Awards this weekend! Delighted to present awards to these students, to recognise their good efforts and encourage them to keep it up in the new year. \\n\\nOver the last fortnight, students in other constituencies have been receiving their Edusave and other awards too. To all recipients, continue to do your best, and make the most of the learning opportunities that your schools offer. At the same time, I hope you will do more to help your peers and others around you so that together, we can build a better Singapore for all. :) \\u2013 LHL',\n",
      "            u'story': u'Lee Hsien Loong added 5 new photos to the album: Edusave & Teck Ghee CCC Bursary Awards 2017 \\u2014 with Sum Kok Wei and 2 others at Townsville Primary School (TVPS).'},\n",
      "           {u'created_time': u'2017-01-14T01:00:25+0000',\n",
      "            u'id': u'125845680811480_1333895956673107',\n",
      "            u'message': u'\\u0baa\\u0bca\\u0b99\\u0bcd\\u0b95\\u0bb2\\u0bcb \\u0baa\\u0bca\\u0b99\\u0bcd\\u0b95\\u0bb2\\u0bcd! Happy Pongal to all who celebrate it! \\n\\nPongal is a Tamil harvest festival held to mark the start of the auspicious month of Thai. It is also the name of the rice dish prepared for the festival. Made with milk and jaggery, the milk is allowed to boil over to symbolise overflowing fortune. I learnt how to make this last year \\u2013 it\\u2019s not difficult! :) (bit.ly/2jHT3WO) \\n\\nPongal is one of the many beautiful festivals enjoyed in multiracial Singapore. Little India is holding events to celebrate it. Why not head over to take in the sparkling lights and have a go at cooking Pongal yourself? (http://www.littleindia.com.sg/events-calendar)\\n\\n\\u2013 LHL\\n\\n(SPH Photo \\xa9 Singapore Press Holdings Limited. Reproduced with permission.)'},\n",
      "           {u'created_time': u'2017-01-11T13:05:14+0000',\n",
      "            u'id': u'125845680811480_1331382800257756',\n",
      "            u'message': u'The \\u2018O\\u2019 Level results were released today. Congratulations to those whose hard work have paid off! If you have done less well than expected, take heart and strive to do better next time. \\n\\nWhile you celebrate your achievements, do take time to thank the people who have accompanied you along the way. Remember to thank your family and teachers too!\\n\\nIf you are undecided what to do next, Ministry of Education, Singapore has more info on polytechnic, JC and ITE admissions here: http://bit.ly/2jyfvl7 \\n\\nWhichever path you choose, I wish all of you the very best in the next chapter of your learning journey! :) \\u2013 LHL\\n\\n(MCI Photo by Fyrol)'},\n",
      "           {u'created_time': u'2017-01-11T06:09:00+0000',\n",
      "            u'id': u'125845680811480_1331138300282206',\n",
      "            u'message': u'Having survived cancer twice, I know how important family and friends are in helping to get through cancer. \\n\\nIf you have cancer, or are a caregiver, remember that you do not walk alone. The Singapore Cancer Society will be organising a Singapore Cancer Society Relay For Life on 18 and 19 February 2017. Show your support and join the relay. Learn more and sign up here: http://bit.ly/2gzxtxq. \\u2013 LHL\\n\\n#scsrelayforlife #scs',\n",
      "            u'story': u\"Lee Hsien Loong shared Singapore Cancer Society Relay For Life's video.\"},\n",
      "           {u'created_time': u'2017-01-10T02:00:00+0000',\n",
      "            u'id': u'125845680811480_1330174957045207',\n",
      "            u'message': u'Alvin Lim sent me this photo of the first sunrise of 2017, taken on New Year\\u2019s Day at the Merlion Park. The Park is a popular spot for professional and leisure photographers taking sunrise photos. The forecast was cloudy that morning, so Alvin was glad to capture this dramatic shot of the sun peeking through the clouds. He shared: \\u201cI take that as a good sign for Singapore. :) \\u201d \\n\\nThanks for sharing your photo! \\u2013 LHL\\n \\n(Photo courtesy of Alvin Lim)'},\n",
      "           {u'created_time': u'2017-01-08T02:15:25+0000',\n",
      "            u'id': u'125845680811480_1328492730546763',\n",
      "            u'message': u'MCI Photo by Terence Tan',\n",
      "            u'story': u'Lee Hsien Loong updated their profile picture.'},\n",
      "           {u'created_time': u'2017-01-08T02:13:52+0000',\n",
      "            u'id': u'125845680811480_1328491923880177',\n",
      "            u'message': u'From the right perspective, this Flaming Beauty (carphalea kirondron) towers like a Supertree over Bukit Timah Hill on the horizon. It is often confused (including by me) with the ixora, which it resembles. Snapped this during my #jalanjalan at Upper Peirce Reservoir last month: http://bit.ly/2iOVlTf. \\u2013 LHL\\n\\n(Photo by me)',\n",
      "            u'story': u'Lee Hsien Loong updated their cover photo.'},\n",
      "           {u'created_time': u'2017-01-06T02:00:00+0000',\n",
      "            u'id': u'125845680811480_1326593457403357',\n",
      "            u'message': u'Silent and stoic, she keeps the world in motion. But our bond with her is precarious, and we are ever at her mercy. #guesswhere and #guesswho? :) \\u2013 LHL\\n\\n(Photo by me)'},\n",
      "           {u'created_time': u'2017-01-04T02:00:00+0000',\n",
      "            u'id': u'125845680811480_1324516000944436',\n",
      "            u'message': u'Walking along Changi Beach on the New Year weekend, I saw this man sitting under a tree, alone yet not alone. He looked like a foreign worker, calling home on his cellphone. \\n\\nAs we enjoy the festive days with friends and family, let us spare a thought for the foreign workers who have left their families behind to work in a distant land. They build our HDB flats and MRT lines, keep our roads clean and parks green, and take care of our young and elderly. They slog and save to support loved ones, but at least with the internet and cellphones they can keep in touch, and feel not quite so far away. \\u2013 LHL\\n\\n(Photo by me)'},\n",
      "           {u'created_time': u'2017-01-02T02:00:20+0000',\n",
      "            u'id': u'125845680811480_1322733921122644',\n",
      "            u'message': u'Tomorrow is the start of the new school year. Time for our young ones to don their uniforms, pick up their backpacks, and head off to school. It is a busy and exciting time for students, parents and teachers. \\n\\nFor those starting in a new school, be yourself, get to know your classmates and teachers, and enjoy your new adventure. For those returning to school, I wish you an inspiring year of discovery and learning. Have fun on your first day at school! :) \\u2013 LHL\\n \\n(Photo courtesy of Ministry of Education, Singapore)'},\n",
      "           {u'created_time': u'2017-01-01T02:32:24+0000',\n",
      "            u'id': u'125845680811480_1321693731226663',\n",
      "            u'message': u'Happy 2017! Rang in the New Year with Teck Ghee residents at Bishan-AMK park last night. Glad to see so many join in the carnival and countdown, which was capped off with spectacular fireworks! Here are some highlights from the evening: http://bit.ly/2iBJO6s \\n\\nA curious fact about this New Year: #DidYouKnow that in some parts of the world, 2017 started a little later? That\\u2019s because a leap second was added on 31 December 2016 at 23h59m59s (UTC) \\u2013 about 8am Singapore time today \\u2013 to sync our clocks to the earth\\u2019s slowing rotation. You can find out more here: http://bit.ly/2iLbdm1 \\n\\n\\u2013 LHL',\n",
      "            u'story': u'Lee Hsien Loong added 6 new photos to the album: Happy New Year 2017! \\u2014 with Grace Teh and 2 others.'}],\n",
      " u'paging': {u'next': u'https://graph.facebook.com/v2.7/125845680811480/posts?access_token=EAACEdEose0cBAMXhj8HOEjIt0xfZBZAZAJtJX2UC8OFll9eqwd5Kftz0b8ZBvMmZCXvtNqQwaa0gs28MAZCthtA9PtPLuLwW41slrm9v2cF8kkeTnGpZB5xpmhKA2oqC4Q5Fv5vzCr1ZCDwVwt9ohl0OcRzQmZCd3KanrnFPwmb2mYwZDZD&limit=25&until=1483237944&__paging_token=enc_AdAJZAy1nfrlWqINlzUwNWcaprAytXGQHbBaK7zGecWNMNVSoJUdPvNzXjsooFpv4IL6JSlpotQfoOBVZAyyV3UCZBKHDPKZBVHTtEeWgX4KCLB14QZDZD',\n",
      "             u'previous': u'https://graph.facebook.com/v2.7/125845680811480/posts?since=1485478941&access_token=EAACEdEose0cBAMXhj8HOEjIt0xfZBZAZAJtJX2UC8OFll9eqwd5Kftz0b8ZBvMmZCXvtNqQwaa0gs28MAZCthtA9PtPLuLwW41slrm9v2cF8kkeTnGpZB5xpmhKA2oqC4Q5Fv5vzCr1ZCDwVwt9ohl0OcRzQmZCd3KanrnFPwmb2mYwZDZD&limit=25&__paging_token=enc_AdBURSE4iJEQ5nzurgfnEw7zURMu38b3un5WMvSe4342ZC52n4pSTUF2KsmZBapg8y0MRx4CsiWiI7NOxxI62taKXlzJgKVkr5SLpGbZA1ZBmYhRBgZDZD&__previous=1'}}\n"
     ]
    }
   ],
   "source": [
    "import facebook\n",
    "\n",
    "graph = facebook.GraphAPI(access_token=ACCESS_TOKEN, version='2.7')\n",
    "\n",
    "#post = graph.get_object(id='1345263892202980', fields=\"name,likes.limit(0).summary(true),reactions.type(LOVE).limit(0).summary(total_count).as(reactions_love),reactions.type(WOW).limit(0).summary(total_count).as(reactions_wow),reactions.type(HAHA).limit(0).summary(total_count).as(reactions_haha),reactions.type(SAD).limit(0).summary(total_count).as(reactions_sad),reactions.type(ANGRY).limit(0).summary(total_count).as(reactions_angry)\")\n",
    "\n",
    "post = graph.get_object(id='leehsienloong/posts')\n",
    "\n",
    "#testdata = graph.get_all_connections(id='1345263892202980', connection_name='comments')\n",
    "\n",
    "# print \"STATUS:\"\n",
    "# print post[\"name\"]\n",
    "pprint.pprint(post)\n",
    "#print testdata"
   ]
  },
  {
   "cell_type": "code",
   "execution_count": null,
   "metadata": {
    "collapsed": true
   },
   "outputs": [],
   "source": []
  }
 ],
 "metadata": {
  "kernelspec": {
   "display_name": "Python 2",
   "language": "python",
   "name": "python2"
  },
  "language_info": {
   "codemirror_mode": {
    "name": "ipython",
    "version": 2
   },
   "file_extension": ".py",
   "mimetype": "text/x-python",
   "name": "python",
   "nbconvert_exporter": "python",
   "pygments_lexer": "ipython2",
   "version": "2.7.10"
  }
 },
 "nbformat": 4,
 "nbformat_minor": 1
}
