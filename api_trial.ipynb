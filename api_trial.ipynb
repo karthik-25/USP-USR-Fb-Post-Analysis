{
 "cells": [
  {
   "cell_type": "code",
   "execution_count": 4,
   "metadata": {
    "collapsed": false
   },
   "outputs": [
    {
     "name": "stdout",
     "output_type": "stream",
     "text": [
      "https://graph.facebook.com/leehsienloong/posts?access_token=EAACEdEose0cBAIf5iA7ZAsQl59SZA2vj8CZCgIy3EklDowwYLZAgcVbKpGU5KRF8KEtlp7vcIPxZCJ0ImTqHy9ykJl61HeisOEVvJPfyfQtTsEPzZCH0QoqFk53lg9OYl3i2SrjSvW6YnUU11j7HCTIIKu7dp7m9diz3nPPEjXcQZDZD\n"
     ]
    },
    {
     "ename": "NameError",
     "evalue": "name 'url2' is not defined",
     "output_type": "error",
     "traceback": [
      "\u001b[0;31m---------------------------------------------------------------------------\u001b[0m",
      "\u001b[0;31mNameError\u001b[0m                                 Traceback (most recent call last)",
      "\u001b[0;32m<ipython-input-4-1195b25bc543>\u001b[0m in \u001b[0;36m<module>\u001b[0;34m()\u001b[0m\n\u001b[1;32m     21\u001b[0m \u001b[0;34m\u001b[0m\u001b[0m\n\u001b[1;32m     22\u001b[0m \u001b[0;31m# open the URL and read the response\u001b[0m\u001b[0;34m\u001b[0m\u001b[0;34m\u001b[0m\u001b[0m\n\u001b[0;32m---> 23\u001b[0;31m \u001b[0mresp\u001b[0m \u001b[0;34m=\u001b[0m \u001b[0murllib\u001b[0m\u001b[0;34m.\u001b[0m\u001b[0murlopen\u001b[0m\u001b[0;34m(\u001b[0m\u001b[0murl2\u001b[0m\u001b[0;34m)\u001b[0m\u001b[0;34m.\u001b[0m\u001b[0mread\u001b[0m\u001b[0;34m(\u001b[0m\u001b[0;34m)\u001b[0m\u001b[0;34m\u001b[0m\u001b[0m\n\u001b[0m\u001b[1;32m     24\u001b[0m \u001b[0;34m\u001b[0m\u001b[0m\n\u001b[1;32m     25\u001b[0m \u001b[0;31m# convert the returned JSON string to a Python datatype\u001b[0m\u001b[0;34m\u001b[0m\u001b[0;34m\u001b[0m\u001b[0m\n",
      "\u001b[0;31mNameError\u001b[0m: name 'url2' is not defined"
     ]
    }
   ],
   "source": [
    "import os\n",
    "import json\n",
    "import urllib\n",
    "import pprint\n",
    "\n",
    "# get Facebook access token from environment variable\n",
    "ACCESS_TOKEN = \"EAACEdEose0cBAIf5iA7ZAsQl59SZA2vj8CZCgIy3EklDowwYLZAgcVbKpGU5KRF8KEtlp7vcIPxZCJ0ImTqHy9ykJl61HeisOEVvJPfyfQtTsEPzZCH0QoqFk53lg9OYl3i2SrjSvW6YnUU11j7HCTIIKu7dp7m9diz3nPPEjXcQZDZD\"\n",
    "\n",
    "#api call for getting likes and reactions\n",
    "likes_reaction_count = \"/v2.8/1345263892202980?fields=likes.limit(0).summary(true),reactions.type(LOVE).limit(0).summary(total_count).as(reactions_love),reactions.type(WOW).limit(0).summary(total_count).as(reactions_wow),reactions.type(HAHA).limit(0).summary(total_count).as(reactions_haha),reactions.type(SAD).limit(0).summary(total_count).as(reactions_sad),reactions.type(ANGRY).limit(0).summary(total_count).as(reactions_angry)\"\n",
    "\n",
    "# build the URL for the API endpoint\n",
    "host = \"https://graph.facebook.com\"\n",
    "path = \"/leehsienloong/posts\"\n",
    "params = urllib.urlencode({\"access_token\": ACCESS_TOKEN})\n",
    "\n",
    "url = \"{host}{path}?{params}\".format(host=host, path=path, params=params)\n",
    "print url\n",
    "\n",
    "#url2 = \"https://graph.facebook.com/v2.8/1345263892202980?fields=likes.limit(0).summary(true)%2Creactions.type(LOVE).limit(0).summary(total_count).as(reactions_love)%2Creactions.type(WOW).limit(0).summary(total_count).as(reactions_wow)%2Creactions.type(HAHA).limit(0).summary(total_count).as(reactions_haha)%2Creactions.type(SAD).limit(0).summary(total_count).as(reactions_sad)%2Creactions.type(ANGRY).limit(0).summary(total_count).as(reactions_angry)&access_token=EAACEdEose0cBABWLLlNPZAVmEN7ZBThei8G9EqckudOJhBbQmUZCqzxOUGzjCQTv5moDHA1S87nGIPqEbxuuoXF9f0yzDfQhFfBLVokICBDtnzcYtRH3ZBLEhOkEewZBW7RQVQLXNvRHEd1btRYlaj2IFU1TKPDLDZBeBPYmzZB1wZDZD\"\n",
    "\n",
    "# open the URL and read the response\n",
    "resp = urllib.urlopen(url2).read()\n",
    "\n",
    "# convert the returned JSON string to a Python datatype \n",
    "#likes = json.loads(resp)\n",
    "\n",
    "#d = pmlee[\"data\"][0]\n",
    "#print d[\"message\"]\n",
    "# display the result\n",
    "#pprint.pprint(likes)\n",
    "\n"
   ]
  },
  {
   "cell_type": "code",
   "execution_count": 7,
   "metadata": {
    "collapsed": false
   },
   "outputs": [
    {
     "name": "stdout",
     "output_type": "stream",
     "text": [
      "{u'id': u'1345263892202980',\n",
      " u'likes': {u'data': [],\n",
      "            u'summary': {u'can_like': True,\n",
      "                         u'has_liked': False,\n",
      "                         u'total_count': 6066}},\n",
      " u'name': u'I met Shahrie and his family during a #jalanjalan at the Children\\u2019s Garden at Gardens by the Bay earlier this month. He saw me taking photos, so sent me his own dramatic shot, saying that it \"shows how free, fun and safe Singapore is and I hope it will stay this way forever\". :)\\n\\nThanks for sharing your photo, Shahrie. Glad to see your family enjoying the Gardens. It\\u2019s certainly a beautiful place to visit. Why not pay a visit during the upcoming long weekend? \\u2013 LHL\\n\\n(Photo courtesy of Shahrie Mohammad)',\n",
      " u'reactions_angry': {u'data': [], u'summary': {u'total_count': 1}},\n",
      " u'reactions_haha': {u'data': [], u'summary': {u'total_count': 6}},\n",
      " u'reactions_love': {u'data': [], u'summary': {u'total_count': 226}},\n",
      " u'reactions_sad': {u'data': [], u'summary': {u'total_count': 0}},\n",
      " u'reactions_wow': {u'data': [], u'summary': {u'total_count': 60}}}\n"
     ]
    }
   ],
   "source": [
    "import facebook\n",
    "\n",
    "graph = facebook.GraphAPI(access_token=ACCESS_TOKEN, version='2.7')\n",
    "\n",
    "post = graph.get_object(id='1345263892202980', fields=\"name,likes.limit(0).summary(true),reactions.type(LOVE).limit(0).summary(total_count).as(reactions_love),reactions.type(WOW).limit(0).summary(total_count).as(reactions_wow),reactions.type(HAHA).limit(0).summary(total_count).as(reactions_haha),reactions.type(SAD).limit(0).summary(total_count).as(reactions_sad),reactions.type(ANGRY).limit(0).summary(total_count).as(reactions_angry)\")\n",
    "\n",
    "\n",
    "\n",
    "#post = graph.get_object(id='leehsienloong/posts')\n",
    "\n",
    "#testdata = graph.get_all_connections(id='1345263892202980', connection_name='comments')\n",
    "\n",
    "# print \"STATUS:\"\n",
    "# print post[\"name\"]\n",
    "pprint.pprint(post)\n",
    "#print testdata"
   ]
  },
  {
   "cell_type": "code",
   "execution_count": 24,
   "metadata": {
    "collapsed": false
   },
   "outputs": [
    {
     "name": "stdout",
     "output_type": "stream",
     "text": [
      "100\n",
      "{u'created_time': u'2016-08-22T07:39:41+0000',\n",
      " u'id': u'125845680811480_1184399288289442',\n",
      " u'message': u'Thank you for watching my National Day Rally speech! \\n\\nYou can watch the full speech on the PMO YouTube channel here: http://bit.ly/2b8UZDA or at www.pmo.gov.sg/national-day-rally-2016\\n\\n- LHL\\n\\n#ndrsg\\n\\n(MCI Photo by Terence Tan)',\n",
      " u'story': u'Lee Hsien Loong updated their cover photo.'}\n"
     ]
    }
   ],
   "source": [
    "\n",
    "graph = facebook.GraphAPI(access_token=ACCESS_TOKEN, version='2.7')\n",
    "\n",
    "post = graph.get_object(id=\"125845680811480/posts?__paging_token=enc_AdDDXxOoy4xwdh83bmMZAe2g4mi6OgoYBXNa2Q8YUomiLMLQ391tGChMzvSKogZAMzJT6L0P9R3yIwR6plgHlhMEDXQQgDbVaxCkZAM9jLxjWjzrQZDZD&until=1477798432&limit=100\")\n",
    "\n",
    "print len(post[\"data\"])\n",
    "\n",
    "pprint.pprint(post[\"data\"][99])\n",
    "\n"
   ]
  },
  {
   "cell_type": "code",
   "execution_count": null,
   "metadata": {
    "collapsed": true
   },
   "outputs": [],
   "source": []
  }
 ],
 "metadata": {
  "kernelspec": {
   "display_name": "Python 2",
   "language": "python",
   "name": "python2"
  },
  "language_info": {
   "codemirror_mode": {
    "name": "ipython",
    "version": 2
   },
   "file_extension": ".py",
   "mimetype": "text/x-python",
   "name": "python",
   "nbconvert_exporter": "python",
   "pygments_lexer": "ipython2",
   "version": "2.7.10"
  }
 },
 "nbformat": 4,
 "nbformat_minor": 1
}
