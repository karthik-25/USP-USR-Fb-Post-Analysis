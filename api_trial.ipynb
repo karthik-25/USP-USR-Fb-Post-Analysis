{
 "cells": [
  {
   "cell_type": "code",
   "execution_count": 7,
   "metadata": {
    "collapsed": false
   },
   "outputs": [
    {
     "name": "stdout",
     "output_type": "stream",
     "text": [
      "https://graph.facebook.com/v2.8/1345263892202980?fields=likes.limit(0).summary(true),reactions.type(LOVE).limit(0).summary(total_count).as(reactions_love),reactions.type(WOW).limit(0).summary(total_count).as(reactions_wow),reactions.type(HAHA).limit(0).summary(total_count).as(reactions_haha),reactions.type(SAD).limit(0).summary(total_count).as(reactions_sad),reactions.type(ANGRY).limit(0).summary(total_count).as(reactions_angry)?access_token=EAACEdEose0cBABWLLlNPZAVmEN7ZBThei8G9EqckudOJhBbQmUZCqzxOUGzjCQTv5moDHA1S87nGIPqEbxuuoXF9f0yzDfQhFfBLVokICBDtnzcYtRH3ZBLEhOkEewZBW7RQVQLXNvRHEd1btRYlaj2IFU1TKPDLDZBeBPYmzZB1wZDZD\n"
     ]
    }
   ],
   "source": [
    "import os\n",
    "import json\n",
    "import urllib\n",
    "import pprint\n",
    "\n",
    "# get Facebook access token from environment variable\n",
    "ACCESS_TOKEN = \"EAACEdEose0cBABWLLlNPZAVmEN7ZBThei8G9EqckudOJhBbQmUZCqzxOUGzjCQTv5moDHA1S87nGIPqEbxuuoXF9f0yzDfQhFfBLVokICBDtnzcYtRH3ZBLEhOkEewZBW7RQVQLXNvRHEd1btRYlaj2IFU1TKPDLDZBeBPYmzZB1wZDZD\"\n",
    "\n",
    "#api call for getting likes and reactions\n",
    "likes_reaction_count = \"/v2.8/1345263892202980?fields=likes.limit(0).summary(true),reactions.type(LOVE).limit(0).summary(total_count).as(reactions_love),reactions.type(WOW).limit(0).summary(total_count).as(reactions_wow),reactions.type(HAHA).limit(0).summary(total_count).as(reactions_haha),reactions.type(SAD).limit(0).summary(total_count).as(reactions_sad),reactions.type(ANGRY).limit(0).summary(total_count).as(reactions_angry)\"\n",
    "\n",
    "# build the URL for the API endpoint\n",
    "host = \"https://graph.facebook.com\"\n",
    "path = likes_reaction_count #\"/leehsienloong/posts\"\n",
    "params = urllib.urlencode({\"access_token\": ACCESS_TOKEN})\n",
    "\n",
    "url = \"{host}{path}?{params}\".format(host=host, path=path, params=params)\n",
    "print url\n",
    "\n",
    "url2 = \"https://graph.facebook.com/v2.8/1345263892202980?fields=likes.limit(0).summary(true)%2Creactions.type(LOVE).limit(0).summary(total_count).as(reactions_love)%2Creactions.type(WOW).limit(0).summary(total_count).as(reactions_wow)%2Creactions.type(HAHA).limit(0).summary(total_count).as(reactions_haha)%2Creactions.type(SAD).limit(0).summary(total_count).as(reactions_sad)%2Creactions.type(ANGRY).limit(0).summary(total_count).as(reactions_angry)&access_token=EAACEdEose0cBABWLLlNPZAVmEN7ZBThei8G9EqckudOJhBbQmUZCqzxOUGzjCQTv5moDHA1S87nGIPqEbxuuoXF9f0yzDfQhFfBLVokICBDtnzcYtRH3ZBLEhOkEewZBW7RQVQLXNvRHEd1btRYlaj2IFU1TKPDLDZBeBPYmzZB1wZDZD\"\n",
    "\n",
    "# open the URL and read the response\n",
    "resp = urllib.urlopen(url2).read()\n",
    "\n",
    "# convert the returned JSON string to a Python datatype \n",
    "#likes = json.loads(resp)\n",
    "\n",
    "#d = pmlee[\"data\"][0]\n",
    "#print d[\"message\"]\n",
    "# display the result\n",
    "#pprint.pprint(likes)\n",
    "\n"
   ]
  },
  {
   "cell_type": "code",
   "execution_count": 19,
   "metadata": {
    "collapsed": false
   },
   "outputs": [
    {
     "name": "stdout",
     "output_type": "stream",
     "text": [
      "{u'id': u'1345263892202980',\n",
      " u'name': u'I met Shahrie and his family during a #jalanjalan at the Children\\u2019s Garden at Gardens by the Bay earlier this month. He saw me taking photos, so sent me his own dramatic shot, saying that it \"shows how free, fun and safe Singapore is and I hope it will stay this way forever\". :)\\n\\nThanks for sharing your photo, Shahrie. Glad to see your family enjoying the Gardens. It\\u2019s certainly a beautiful place to visit. Why not pay a visit during the upcoming long weekend? \\u2013 LHL\\n\\n(Photo courtesy of Shahrie Mohammad)'}\n"
     ]
    }
   ],
   "source": [
    "import facebook\n",
    "\n",
    "graph = facebook.GraphAPI(access_token=ACCESS_TOKEN, version='2.7')\n",
    "\n",
    "post = graph.get_object(id='1345263892202980', fields=\"name,likes.limit(0).summary(true),reactions.type(LOVE).limit(0).summary(total_count).as(reactions_love),reactions.type(WOW).limit(0).summary(total_count).as(reactions_wow),reactions.type(HAHA).limit(0).summary(total_count).as(reactions_haha),reactions.type(SAD).limit(0).summary(total_count).as(reactions_sad),reactions.type(ANGRY).limit(0).summary(total_count).as(reactions_angry)\")\n",
    "\n",
    "post = graph.get_object(id='1345263892202980', fields='name')\n",
    "\n",
    "# print \"STATUS:\"\n",
    "# print post[\"name\"]\n",
    "pprint.pprint(post)"
   ]
  },
  {
   "cell_type": "code",
   "execution_count": null,
   "metadata": {
    "collapsed": true
   },
   "outputs": [],
   "source": []
  }
 ],
 "metadata": {
  "kernelspec": {
   "display_name": "Python 2",
   "language": "python",
   "name": "python2"
  },
  "language_info": {
   "codemirror_mode": {
    "name": "ipython",
    "version": 2
   },
   "file_extension": ".py",
   "mimetype": "text/x-python",
   "name": "python",
   "nbconvert_exporter": "python",
   "pygments_lexer": "ipython2",
   "version": "2.7.10"
  }
 },
 "nbformat": 4,
 "nbformat_minor": 1
}
