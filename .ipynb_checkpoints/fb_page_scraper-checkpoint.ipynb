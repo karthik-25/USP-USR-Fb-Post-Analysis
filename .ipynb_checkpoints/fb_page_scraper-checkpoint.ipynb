{
 "cells": [
  {
   "cell_type": "code",
   "execution_count": 71,
   "metadata": {
    "collapsed": true
   },
   "outputs": [],
   "source": [
    "import facebook\n",
    "import json\n",
    "import pprint\n",
    "import csv"
   ]
  },
  {
   "cell_type": "code",
   "execution_count": 72,
   "metadata": {
    "collapsed": true
   },
   "outputs": [],
   "source": [
    "# Facebook access token hardcoded. Get this from Facebook Graph Explorer\n",
    "ACCESS_TOKEN = \"EAACEdEose0cBAEOjnt14ZBLQeBEA3Gbp1Dxx6V0Ddtv7ZCZCnWKOculCMq5F2J2SKWryW5t55Bfbh5uF3EDnKeqjfW4Px3ZBTlhQJ7QFpDItmpFNHWBb9va6okQLBI2RpoojZBKvXJlXClPpm0qE0ZCZAQm8MawiAysbtjJG23RWQZDZD\""
   ]
  },
  {
   "cell_type": "code",
   "execution_count": 73,
   "metadata": {
    "collapsed": false
   },
   "outputs": [],
   "source": [
    "# Making API call to get all posts for given ID (in this case, politician's page)\n",
    "graph = facebook.GraphAPI(access_token=ACCESS_TOKEN, version='2.7')\n",
    "all_posts = graph.get_object(id='leehsienloong/posts')"
   ]
  },
  {
   "cell_type": "code",
   "execution_count": 74,
   "metadata": {
    "collapsed": true
   },
   "outputs": [],
   "source": [
    "# Creating a list of post IDs from the JSON data (returned from API call)  \n",
    "post_id_list= []\n",
    "\n",
    "for post in all_posts[\"data\"]:\n",
    "    post_id_list.append(post[\"id\"])"
   ]
  },
  {
   "cell_type": "code",
   "execution_count": 75,
   "metadata": {
    "collapsed": false
   },
   "outputs": [
    {
     "name": "stdout",
     "output_type": "stream",
     "text": [
      "25\n"
     ]
    }
   ],
   "source": [
    "# Loop through each post, retrieve relevant post information (message, likes count, reactions count, comments count)\n",
    "# Store data in list. Each element is still in JSON format.\n",
    "post_desc_list = []\n",
    "fields_required = \"message, shares, comments.limit(0).summary(true), likes.limit(0).summary(true),reactions.type(LOVE).limit(0).summary(total_count).as(reactions_love),reactions.type(WOW).limit(0).summary(total_count).as(reactions_wow),reactions.type(HAHA).limit(0).summary(total_count).as(reactions_haha),reactions.type(SAD).limit(0).summary(total_count).as(reactions_sad),reactions.type(ANGRY).limit(0).summary(total_count).as(reactions_angry)\"\n",
    "\n",
    "for ids in post_id_list:\n",
    "    post_desc_list.append(graph.get_object(id=ids, fields=fields_required))\n",
    "    \n",
    "print len(post_desc_list)\n",
    "#pprint.pprint(post_desc_list[3])"
   ]
  },
  {
   "cell_type": "code",
   "execution_count": 76,
   "metadata": {
    "collapsed": false
   },
   "outputs": [
    {
     "name": "stdout",
     "output_type": "stream",
     "text": [
      "25 done\n"
     ]
    }
   ],
   "source": [
    "# Loop through post_desc_list, Each interation, retrieve relevant info, create row and write into csv file\n",
    "\n",
    "headers = [\"No.\",\"status\",\"comments_count\",\"shares_count\",\"likes_count\",\"angry_count\",\"haha_count\",\"love_count\",\"sad_count\",\"wow_count\"]\n",
    "\n",
    "with open('datafile.csv', 'wb') as f:\n",
    "    w = csv.writer(f, delimiter=\",\")\n",
    "    w.writerow(headers)\n",
    "    count = 1\n",
    "    for post_desc in post_desc_list:\n",
    "        \n",
    "        try: \n",
    "            status_str = str(post_desc[\"message\"].encode('utf8'))\n",
    "        except KeyError:\n",
    "            status_str = \"\"\n",
    "        \n",
    "        comments_count = str(post_desc[\"comments\"][\"summary\"][\"total_count\"])\n",
    "        \n",
    "        try:\n",
    "            shares_count = str(post_desc[\"shares\"][\"count\"])\n",
    "        except KeyError:\n",
    "            shares_count = 0\n",
    "        \n",
    "        likes_count = str(post_desc[\"likes\"][\"summary\"][\"total_count\"])\n",
    "        angry_count = str(post_desc[\"reactions_angry\"][\"summary\"][\"total_count\"])\n",
    "        haha_count = str(post_desc[\"reactions_haha\"][\"summary\"][\"total_count\"])\n",
    "        love_count = str(post_desc[\"reactions_love\"][\"summary\"][\"total_count\"])\n",
    "        sad_count = str(post_desc[\"reactions_sad\"][\"summary\"][\"total_count\"])\n",
    "        wow_count = str(post_desc[\"reactions_wow\"][\"summary\"][\"total_count\"])\n",
    "        \n",
    "        row_string = [count,status_str,comments_count,shares_count,likes_count,angry_count,haha_count,love_count,sad_count,wow_count]\n",
    "        w.writerow(row_string)\n",
    "        count += 1\n",
    "print count-1,\"done\""
   ]
  },
  {
   "cell_type": "code",
   "execution_count": null,
   "metadata": {
    "collapsed": true
   },
   "outputs": [],
   "source": []
  }
 ],
 "metadata": {
  "kernelspec": {
   "display_name": "Python 2",
   "language": "python",
   "name": "python2"
  },
  "language_info": {
   "codemirror_mode": {
    "name": "ipython",
    "version": 2
   },
   "file_extension": ".py",
   "mimetype": "text/x-python",
   "name": "python",
   "nbconvert_exporter": "python",
   "pygments_lexer": "ipython2",
   "version": "2.7.10"
  }
 },
 "nbformat": 4,
 "nbformat_minor": 1
}
