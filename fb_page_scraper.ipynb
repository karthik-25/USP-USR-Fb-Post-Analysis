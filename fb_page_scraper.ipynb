{
 "cells": [
  {
   "cell_type": "code",
   "execution_count": 45,
   "metadata": {
    "collapsed": true
   },
   "outputs": [],
   "source": [
    "import facebook\n",
    "import json\n",
    "import pprint\n",
    "import csv\n",
    "\n",
    "# Facebook access token hardcoded. Get this from Facebook Graph Explorer\n",
    "ACCESS_TOKEN = \"\""
   ]
  },
  {
   "cell_type": "code",
   "execution_count": 46,
   "metadata": {
    "collapsed": false
   },
   "outputs": [],
   "source": [
    "# Making API call to get all posts for given ID (in this case, politician's page)\n",
    "graph = facebook.GraphAPI(access_token=ACCESS_TOKEN, version='2.7')\n",
    "all_posts = graph.get_object(id='leehsienloong/posts')"
   ]
  },
  {
   "cell_type": "code",
   "execution_count": 47,
   "metadata": {
    "collapsed": true
   },
   "outputs": [],
   "source": [
    "# Creating a list of post IDs from the JSON data (returned from API call)  \n",
    "post_id_list= []\n",
    "\n",
    "for post in all_posts[\"data\"]:\n",
    "    post_id_list.append(post[\"id\"])"
   ]
  },
  {
   "cell_type": "code",
   "execution_count": 48,
   "metadata": {
    "collapsed": false
   },
   "outputs": [
    {
     "name": "stdout",
     "output_type": "stream",
     "text": [
      "25\n",
      "{u'comments': {u'data': [],\n",
      "               u'summary': {u'can_comment': True,\n",
      "                            u'order': u'ranked',\n",
      "                            u'total_count': 11}},\n",
      " u'id': u'125845680811480_1349019458494090',\n",
      " u'likes': {u'data': [],\n",
      "            u'summary': {u'can_like': True,\n",
      "                         u'has_liked': False,\n",
      "                         u'total_count': 625}},\n",
      " u'message': u'Here are some highlights from my #ChineseNewYear visit to Senoko Energy this morning. \\u2013 LHL\\n\\n#CNY\\n \\n(PMO Video by Alex Qiu and Chiez How)',\n",
      " u'reactions_angry': {u'data': [], u'summary': {u'total_count': 0}},\n",
      " u'reactions_haha': {u'data': [], u'summary': {u'total_count': 1}},\n",
      " u'reactions_love': {u'data': [], u'summary': {u'total_count': 20}},\n",
      " u'reactions_sad': {u'data': [], u'summary': {u'total_count': 0}},\n",
      " u'reactions_wow': {u'data': [], u'summary': {u'total_count': 0}},\n",
      " u'shares': {u'count': 35}}\n"
     ]
    }
   ],
   "source": [
    "# Loop through each post, retrieve relevant post information (message, likes count, reactions count, comments count)\n",
    "# Store data in list. Each element is still in JSON format.\n",
    "post_desc_list = []\n",
    "fields_required = \"message, shares, comments.limit(0).summary(true), likes.limit(0).summary(true),reactions.type(LOVE).limit(0).summary(total_count).as(reactions_love),reactions.type(WOW).limit(0).summary(total_count).as(reactions_wow),reactions.type(HAHA).limit(0).summary(total_count).as(reactions_haha),reactions.type(SAD).limit(0).summary(total_count).as(reactions_sad),reactions.type(ANGRY).limit(0).summary(total_count).as(reactions_angry)\"\n",
    "\n",
    "for ids in post_id_list:\n",
    "    post_desc_list.append(graph.get_object(id=ids, fields=fields_required))\n",
    "    \n",
    "print len(post_desc_list)\n",
    "pprint.pprint(post_desc_list[0])"
   ]
  },
  {
   "cell_type": "code",
   "execution_count": 50,
   "metadata": {
    "collapsed": false
   },
   "outputs": [
    {
     "name": "stdout",
     "output_type": "stream",
     "text": [
      "['status', 'comments_count', 'shares_count', 'likes_count', 'angry_count', 'haha_count', 'love_count', 'sad_count', 'wow_count']\n",
      "['Here are some highlights from my #ChineseNewYear visit to Senoko Energy this morning. \\xe2\\x80\\x93 LHL\\n\\n#CNY\\n \\n(PMO Video by Alex Qiu and Chiez How)', '11', '35', '625', '0', '1', '20', '0', '0']\n",
      "done\n"
     ]
    }
   ],
   "source": [
    "# Test Print\n",
    "\n",
    "# print \"Status:\", post_desc_list[0][\"message\"]\n",
    "# print \"Comments:\", post_desc_list[0][\"comments\"][\"summary\"][\"total_count\"]\n",
    "# print \"Likes:\", post_desc_list[0][\"likes\"][\"summary\"][\"total_count\"]\n",
    "# print \"Reactions:\"\n",
    "# print \"- angry\", post_desc_list[0][\"reactions_angry\"][\"summary\"][\"total_count\"]\n",
    "# print \"- haha\", post_desc_list[0][\"reactions_haha\"][\"summary\"][\"total_count\"]\n",
    "# print \"- love\", post_desc_list[0][\"reactions_love\"][\"summary\"][\"total_count\"]\n",
    "# print \"- sad\", post_desc_list[0][\"reactions_sad\"][\"summary\"][\"total_count\"]\n",
    "\n",
    "status_str = str(post_desc_list[0][\"message\"].encode('utf8'))\n",
    "comments_count = str(post_desc_list[0][\"comments\"][\"summary\"][\"total_count\"])\n",
    "shares_count = str(post_desc_list[0][\"shares\"][\"count\"])\n",
    "likes_count = str(post_desc_list[0][\"likes\"][\"summary\"][\"total_count\"])\n",
    "angry_count = str(post_desc_list[0][\"reactions_angry\"][\"summary\"][\"total_count\"])\n",
    "haha_count = str(post_desc_list[0][\"reactions_haha\"][\"summary\"][\"total_count\"])\n",
    "love_count = str(post_desc_list[0][\"reactions_love\"][\"summary\"][\"total_count\"])\n",
    "sad_count = str(post_desc_list[0][\"reactions_sad\"][\"summary\"][\"total_count\"])\n",
    "wow_count = str(post_desc_list[0][\"reactions_wow\"][\"summary\"][\"total_count\"])\n",
    "\n",
    "#print status_str\n",
    "\n",
    "headers = [\"status\",\"comments_count\",\"shares_count\",\"likes_count\",\"angry_count\",\"haha_count\",\"love_count\",\"sad_count\",\"wow_count\"]\n",
    "row_string = [status_str,comments_count,shares_count,likes_count,angry_count,haha_count,love_count,sad_count,wow_count]\n",
    "print headers\n",
    "print row_string\n",
    "\n",
    "with open('datafile.csv', 'wb') as f:\n",
    "    w = csv.writer(f, delimiter=\",\")\n",
    "    w.writerow(headers)\n",
    "    w.writerow(row_string)\n",
    "    \n",
    "print \"done\""
   ]
  },
  {
   "cell_type": "code",
   "execution_count": 55,
   "metadata": {
    "collapsed": false
   },
   "outputs": [
    {
     "ename": "AttributeError",
     "evalue": "'list' object has no attribute 'encode'",
     "output_type": "error",
     "traceback": [
      "\u001b[0;31m---------------------------------------------------------------------------\u001b[0m",
      "\u001b[0;31mAttributeError\u001b[0m                            Traceback (most recent call last)",
      "\u001b[0;32m<ipython-input-55-d7b872558bba>\u001b[0m in \u001b[0;36m<module>\u001b[0;34m()\u001b[0m\n\u001b[1;32m     20\u001b[0m     \u001b[0mw\u001b[0m \u001b[0;34m=\u001b[0m \u001b[0mcsv\u001b[0m\u001b[0;34m.\u001b[0m\u001b[0mDictWriter\u001b[0m\u001b[0;34m(\u001b[0m\u001b[0mf\u001b[0m\u001b[0;34m,\u001b[0m \u001b[0mdata_dict\u001b[0m\u001b[0;34m.\u001b[0m\u001b[0mkeys\u001b[0m\u001b[0;34m(\u001b[0m\u001b[0;34m)\u001b[0m\u001b[0;34m)\u001b[0m\u001b[0;34m\u001b[0m\u001b[0m\n\u001b[1;32m     21\u001b[0m     \u001b[0mw\u001b[0m\u001b[0;34m.\u001b[0m\u001b[0mwriteheader\u001b[0m\u001b[0;34m(\u001b[0m\u001b[0;34m)\u001b[0m\u001b[0;34m\u001b[0m\u001b[0m\n\u001b[0;32m---> 22\u001b[0;31m     \u001b[0mw\u001b[0m\u001b[0;34m.\u001b[0m\u001b[0mwriterow\u001b[0m\u001b[0;34m(\u001b[0m\u001b[0;34m{\u001b[0m\u001b[0mk\u001b[0m\u001b[0;34m:\u001b[0m\u001b[0mv\u001b[0m\u001b[0;34m.\u001b[0m\u001b[0mencode\u001b[0m\u001b[0;34m(\u001b[0m\u001b[0;34m'utf8'\u001b[0m\u001b[0;34m)\u001b[0m \u001b[0;32mfor\u001b[0m \u001b[0mk\u001b[0m\u001b[0;34m,\u001b[0m\u001b[0mv\u001b[0m \u001b[0;32min\u001b[0m \u001b[0mdata_dict\u001b[0m\u001b[0;34m.\u001b[0m\u001b[0mitems\u001b[0m\u001b[0;34m(\u001b[0m\u001b[0;34m)\u001b[0m\u001b[0;34m}\u001b[0m\u001b[0;34m)\u001b[0m\u001b[0;34m\u001b[0m\u001b[0m\n\u001b[0m\u001b[1;32m     23\u001b[0m \u001b[0;34m\u001b[0m\u001b[0m\n\u001b[1;32m     24\u001b[0m \u001b[0;32mprint\u001b[0m \u001b[0;34m\"done\"\u001b[0m\u001b[0;34m\u001b[0m\u001b[0m\n",
      "\u001b[0;32m<ipython-input-55-d7b872558bba>\u001b[0m in \u001b[0;36m<dictcomp>\u001b[0;34m((k, v))\u001b[0m\n\u001b[1;32m     20\u001b[0m     \u001b[0mw\u001b[0m \u001b[0;34m=\u001b[0m \u001b[0mcsv\u001b[0m\u001b[0;34m.\u001b[0m\u001b[0mDictWriter\u001b[0m\u001b[0;34m(\u001b[0m\u001b[0mf\u001b[0m\u001b[0;34m,\u001b[0m \u001b[0mdata_dict\u001b[0m\u001b[0;34m.\u001b[0m\u001b[0mkeys\u001b[0m\u001b[0;34m(\u001b[0m\u001b[0;34m)\u001b[0m\u001b[0;34m)\u001b[0m\u001b[0;34m\u001b[0m\u001b[0m\n\u001b[1;32m     21\u001b[0m     \u001b[0mw\u001b[0m\u001b[0;34m.\u001b[0m\u001b[0mwriteheader\u001b[0m\u001b[0;34m(\u001b[0m\u001b[0;34m)\u001b[0m\u001b[0;34m\u001b[0m\u001b[0m\n\u001b[0;32m---> 22\u001b[0;31m     \u001b[0mw\u001b[0m\u001b[0;34m.\u001b[0m\u001b[0mwriterow\u001b[0m\u001b[0;34m(\u001b[0m\u001b[0;34m{\u001b[0m\u001b[0mk\u001b[0m\u001b[0;34m:\u001b[0m\u001b[0mv\u001b[0m\u001b[0;34m.\u001b[0m\u001b[0mencode\u001b[0m\u001b[0;34m(\u001b[0m\u001b[0;34m'utf8'\u001b[0m\u001b[0;34m)\u001b[0m \u001b[0;32mfor\u001b[0m \u001b[0mk\u001b[0m\u001b[0;34m,\u001b[0m\u001b[0mv\u001b[0m \u001b[0;32min\u001b[0m \u001b[0mdata_dict\u001b[0m\u001b[0;34m.\u001b[0m\u001b[0mitems\u001b[0m\u001b[0;34m(\u001b[0m\u001b[0;34m)\u001b[0m\u001b[0;34m}\u001b[0m\u001b[0;34m)\u001b[0m\u001b[0;34m\u001b[0m\u001b[0m\n\u001b[0m\u001b[1;32m     23\u001b[0m \u001b[0;34m\u001b[0m\u001b[0m\n\u001b[1;32m     24\u001b[0m \u001b[0;32mprint\u001b[0m \u001b[0;34m\"done\"\u001b[0m\u001b[0;34m\u001b[0m\u001b[0m\n",
      "\u001b[0;31mAttributeError\u001b[0m: 'list' object has no attribute 'encode'"
     ]
    }
   ],
   "source": [
    "data_dict = {}\n",
    "\n",
    "for item in post_desc_list:\n",
    "    data_dict[\"message\"] = item[\"message\"]\n",
    "    data_dict[\"comments\"] = str(item[\"comments\"][\"summary\"][\"total_count\"])\n",
    "    data_dict[\"likes\"] = str(item[\"likes\"][\"summary\"][\"total_count\"])\n",
    "    data_dict[\"angry\"] = str(item[\"reactions_angry\"][\"summary\"][\"total_count\"])\n",
    "    data_dict[\"haha\"] = str(item[\"reactions_haha\"][\"summary\"][\"total_count\"])\n",
    "    data_dict[\"love\"] = str(item[\"reactions_love\"][\"summary\"][\"total_count\"])\n",
    "    data_dict[\"sad\"] = str(item[\"reactions_sad\"][\"summary\"][\"total_count\"])\n",
    "    data_dict[\"wow\"] = str(item[\"reactions_wow\"][\"summary\"][\"total_count\"])\n",
    "\n",
    "#print data_dict\n",
    "\n",
    "import csv\n",
    "\n",
    "#new_dict = dict((k.encode('ascii'), v) for (k, v) in data_dict.items())\n",
    "#print new_dict\n",
    "with open('datafile.csv', 'wb') as f:\n",
    "    w = csv.DictWriter(f, data_dict.keys())\n",
    "    w.writeheader()\n",
    "    w.writerow({k:v.encode('utf8') for k,v in data_dict.items()})\n",
    "    \n",
    "print \"done\"\n",
    "\n",
    "# print \"Status:\", post_desc_list[0][\"message\"]\n",
    "# print \"Comments:\", post_desc_list[0][\"comments\"][\"summary\"][\"total_count\"]\n",
    "# print \"Likes:\", post_desc_list[0][\"likes\"][\"summary\"][\"total_count\"]\n",
    "# print \"Reactions:\"\n",
    "# print \"- angry\", post_desc_list[0][\"reactions_angry\"][\"summary\"][\"total_count\"]\n",
    "# print \"- haha\", post_desc_list[0][\"reactions_haha\"][\"summary\"][\"total_count\"]\n",
    "# print \"- love\", post_desc_list[0][\"reactions_love\"][\"summary\"][\"total_count\"]\n",
    "# print \"- sad\", post_desc_list[0][\"reactions_sad\"][\"summary\"][\"total_count\"]\n",
    "# print \"- wow\", post_desc_list[0][\"reactions_wow\"][\"summary\"][\"total_count\"]"
   ]
  }
 ],
 "metadata": {
  "kernelspec": {
   "display_name": "Python 2",
   "language": "python",
   "name": "python2"
  },
  "language_info": {
   "codemirror_mode": {
    "name": "ipython",
    "version": 2
   },
   "file_extension": ".py",
   "mimetype": "text/x-python",
   "name": "python",
   "nbconvert_exporter": "python",
   "pygments_lexer": "ipython2",
   "version": "2.7.10"
  }
 },
 "nbformat": 4,
 "nbformat_minor": 1
}
