{
 "cells": [
  {
   "cell_type": "code",
   "execution_count": 32,
   "metadata": {
    "collapsed": false
   },
   "outputs": [
    {
     "name": "stdout",
     "output_type": "stream",
     "text": [
      "25\n"
     ]
    }
   ],
   "source": [
    "import facebook\n",
    "import json\n",
    "import pprint\n",
    "\n",
    "# Facebook access token hardcoded. Get this from Facebook Graph Explorer\n",
    "ACCESS_TOKEN = \"\"\n",
    "\n",
    "#Making API call to get all posts for given object ID\n",
    "graph = facebook.GraphAPI(access_token=ACCESS_TOKEN, version='2.7')\n",
    "all_posts = graph.get_object(id='leehsienloong/posts')\n",
    "\n",
    "post_list = all_posts[\"data\"]\n",
    "post_id_list= []\n",
    "post_desc_list = []\n",
    "\n",
    "for post in post_list:\n",
    "    post_id_list.append(post[\"id\"])\n",
    "\n",
    "#pprint.pprint(post_id_list)\n",
    "count = 0\n",
    "for ids in post_id_list:\n",
    "    post_desc_list.append(graph.get_object(id=ids, fields=\"message, comments.limit(0).summary(true), likes.limit(0).summary(true),reactions.type(LOVE).limit(0).summary(total_count).as(reactions_love),reactions.type(WOW).limit(0).summary(total_count).as(reactions_wow),reactions.type(HAHA).limit(0).summary(total_count).as(reactions_haha),reactions.type(SAD).limit(0).summary(total_count).as(reactions_sad),reactions.type(ANGRY).limit(0).summary(total_count).as(reactions_angry)\"))\n",
    "    \n",
    "print len(post_desc_list)"
   ]
  },
  {
   "cell_type": "code",
   "execution_count": 38,
   "metadata": {
    "collapsed": false
   },
   "outputs": [
    {
     "name": "stdout",
     "output_type": "stream",
     "text": [
      "Status: For everyone celebrating #ChineseNewYear, I hope you are all prepared! Tonight, Chinese families will be gathering for their reunion dinner. If you can’t make it tonight because of work or other reasons, I hope you have arranged to celebrate it earlier, or hold it on another night. The reunion dinner is an ancient tradition, reminding us of what is truly important in life as we enter into the New Year – family, loved ones and friends. \n",
      "\n",
      "The lunar new year is also a time to reflect on what others have done for us and how we can pay it forward for our future generations. Find out more from my Chinese New Year Message by clicking on the article below.\n",
      "\n",
      "May you have a joyful reunion dinner and an abundance of happiness, health and wealth in the Rooster Year! – LHL\n",
      "\n",
      "农历新年是阖家同欢共庆、共享天伦的重要节日， 也是让我们反思过去，并且感恩惜福的时刻。在回顾过去时，我们必须展望未来， 未雨绸缪， 以应付未来的挑战。更多详情在新春献词里，请点击以下 http://bit.ly/2j9GXWE.\n",
      "\n",
      "谨祝大家鸡年大吉、万事如意、新年快乐！– 李显龙\n",
      "Comments: 313\n",
      "Likes: 6861\n",
      "Reactions:\n",
      "- angry 0\n",
      "- haha 5\n",
      "- love 282\n",
      "- sad 1\n",
      "- wow 17\n"
     ]
    }
   ],
   "source": [
    "#pprint.pprint(post_desc_list[0])\n",
    "\n",
    "print \"Status:\", post_desc_list[0][\"message\"]\n",
    "print \"Comments:\", post_desc_list[0][\"comments\"][\"summary\"][\"total_count\"]\n",
    "print \"Likes:\", post_desc_list[0][\"likes\"][\"summary\"][\"total_count\"]\n",
    "print \"Reactions:\"\n",
    "print \"- angry\", post_desc_list[0][\"reactions_angry\"][\"summary\"][\"total_count\"]\n",
    "print \"- haha\", post_desc_list[0][\"reactions_haha\"][\"summary\"][\"total_count\"]\n",
    "print \"- love\", post_desc_list[0][\"reactions_love\"][\"summary\"][\"total_count\"]\n",
    "print \"- sad\", post_desc_list[0][\"reactions_sad\"][\"summary\"][\"total_count\"]\n",
    "print \"- wow\", post_desc_list[0][\"reactions_wow\"][\"summary\"][\"total_count\"]"
   ]
  },
  {
   "cell_type": "code",
   "execution_count": 55,
   "metadata": {
    "collapsed": false
   },
   "outputs": [
    {
     "ename": "AttributeError",
     "evalue": "'list' object has no attribute 'encode'",
     "output_type": "error",
     "traceback": [
      "\u001b[0;31m---------------------------------------------------------------------------\u001b[0m",
      "\u001b[0;31mAttributeError\u001b[0m                            Traceback (most recent call last)",
      "\u001b[0;32m<ipython-input-55-d7b872558bba>\u001b[0m in \u001b[0;36m<module>\u001b[0;34m()\u001b[0m\n\u001b[1;32m     20\u001b[0m     \u001b[0mw\u001b[0m \u001b[0;34m=\u001b[0m \u001b[0mcsv\u001b[0m\u001b[0;34m.\u001b[0m\u001b[0mDictWriter\u001b[0m\u001b[0;34m(\u001b[0m\u001b[0mf\u001b[0m\u001b[0;34m,\u001b[0m \u001b[0mdata_dict\u001b[0m\u001b[0;34m.\u001b[0m\u001b[0mkeys\u001b[0m\u001b[0;34m(\u001b[0m\u001b[0;34m)\u001b[0m\u001b[0;34m)\u001b[0m\u001b[0;34m\u001b[0m\u001b[0m\n\u001b[1;32m     21\u001b[0m     \u001b[0mw\u001b[0m\u001b[0;34m.\u001b[0m\u001b[0mwriteheader\u001b[0m\u001b[0;34m(\u001b[0m\u001b[0;34m)\u001b[0m\u001b[0;34m\u001b[0m\u001b[0m\n\u001b[0;32m---> 22\u001b[0;31m     \u001b[0mw\u001b[0m\u001b[0;34m.\u001b[0m\u001b[0mwriterow\u001b[0m\u001b[0;34m(\u001b[0m\u001b[0;34m{\u001b[0m\u001b[0mk\u001b[0m\u001b[0;34m:\u001b[0m\u001b[0mv\u001b[0m\u001b[0;34m.\u001b[0m\u001b[0mencode\u001b[0m\u001b[0;34m(\u001b[0m\u001b[0;34m'utf8'\u001b[0m\u001b[0;34m)\u001b[0m \u001b[0;32mfor\u001b[0m \u001b[0mk\u001b[0m\u001b[0;34m,\u001b[0m\u001b[0mv\u001b[0m \u001b[0;32min\u001b[0m \u001b[0mdata_dict\u001b[0m\u001b[0;34m.\u001b[0m\u001b[0mitems\u001b[0m\u001b[0;34m(\u001b[0m\u001b[0;34m)\u001b[0m\u001b[0;34m}\u001b[0m\u001b[0;34m)\u001b[0m\u001b[0;34m\u001b[0m\u001b[0m\n\u001b[0m\u001b[1;32m     23\u001b[0m \u001b[0;34m\u001b[0m\u001b[0m\n\u001b[1;32m     24\u001b[0m \u001b[0;32mprint\u001b[0m \u001b[0;34m\"done\"\u001b[0m\u001b[0;34m\u001b[0m\u001b[0m\n",
      "\u001b[0;32m<ipython-input-55-d7b872558bba>\u001b[0m in \u001b[0;36m<dictcomp>\u001b[0;34m((k, v))\u001b[0m\n\u001b[1;32m     20\u001b[0m     \u001b[0mw\u001b[0m \u001b[0;34m=\u001b[0m \u001b[0mcsv\u001b[0m\u001b[0;34m.\u001b[0m\u001b[0mDictWriter\u001b[0m\u001b[0;34m(\u001b[0m\u001b[0mf\u001b[0m\u001b[0;34m,\u001b[0m \u001b[0mdata_dict\u001b[0m\u001b[0;34m.\u001b[0m\u001b[0mkeys\u001b[0m\u001b[0;34m(\u001b[0m\u001b[0;34m)\u001b[0m\u001b[0;34m)\u001b[0m\u001b[0;34m\u001b[0m\u001b[0m\n\u001b[1;32m     21\u001b[0m     \u001b[0mw\u001b[0m\u001b[0;34m.\u001b[0m\u001b[0mwriteheader\u001b[0m\u001b[0;34m(\u001b[0m\u001b[0;34m)\u001b[0m\u001b[0;34m\u001b[0m\u001b[0m\n\u001b[0;32m---> 22\u001b[0;31m     \u001b[0mw\u001b[0m\u001b[0;34m.\u001b[0m\u001b[0mwriterow\u001b[0m\u001b[0;34m(\u001b[0m\u001b[0;34m{\u001b[0m\u001b[0mk\u001b[0m\u001b[0;34m:\u001b[0m\u001b[0mv\u001b[0m\u001b[0;34m.\u001b[0m\u001b[0mencode\u001b[0m\u001b[0;34m(\u001b[0m\u001b[0;34m'utf8'\u001b[0m\u001b[0;34m)\u001b[0m \u001b[0;32mfor\u001b[0m \u001b[0mk\u001b[0m\u001b[0;34m,\u001b[0m\u001b[0mv\u001b[0m \u001b[0;32min\u001b[0m \u001b[0mdata_dict\u001b[0m\u001b[0;34m.\u001b[0m\u001b[0mitems\u001b[0m\u001b[0;34m(\u001b[0m\u001b[0;34m)\u001b[0m\u001b[0;34m}\u001b[0m\u001b[0;34m)\u001b[0m\u001b[0;34m\u001b[0m\u001b[0m\n\u001b[0m\u001b[1;32m     23\u001b[0m \u001b[0;34m\u001b[0m\u001b[0m\n\u001b[1;32m     24\u001b[0m \u001b[0;32mprint\u001b[0m \u001b[0;34m\"done\"\u001b[0m\u001b[0;34m\u001b[0m\u001b[0m\n",
      "\u001b[0;31mAttributeError\u001b[0m: 'list' object has no attribute 'encode'"
     ]
    }
   ],
   "source": [
    "data_dict = {}\n",
    "\n",
    "for item in post_desc_list:\n",
    "    data_dict[\"message\"] = item[\"message\"]\n",
    "    data_dict[\"comments\"] = str(item[\"comments\"][\"summary\"][\"total_count\"])\n",
    "    data_dict[\"likes\"] = str(item[\"likes\"][\"summary\"][\"total_count\"])\n",
    "    data_dict[\"angry\"] = str(item[\"reactions_angry\"][\"summary\"][\"total_count\"])\n",
    "    data_dict[\"haha\"] = str(item[\"reactions_haha\"][\"summary\"][\"total_count\"])\n",
    "    data_dict[\"love\"] = str(item[\"reactions_love\"][\"summary\"][\"total_count\"])\n",
    "    data_dict[\"sad\"] = str(item[\"reactions_sad\"][\"summary\"][\"total_count\"])\n",
    "    data_dict[\"wow\"] = str(item[\"reactions_wow\"][\"summary\"][\"total_count\"])\n",
    "\n",
    "#print data_dict\n",
    "\n",
    "import csv\n",
    "\n",
    "#new_dict = dict((k.encode('ascii'), v) for (k, v) in data_dict.items())\n",
    "#print new_dict\n",
    "with open('datafile.csv', 'wb') as f:\n",
    "    w = csv.DictWriter(f, data_dict.keys())\n",
    "    w.writeheader()\n",
    "    w.writerow({k:v.encode('utf8') for k,v in data_dict.items()})\n",
    "    \n",
    "print \"done\"\n",
    "\n",
    "# print \"Status:\", post_desc_list[0][\"message\"]\n",
    "# print \"Comments:\", post_desc_list[0][\"comments\"][\"summary\"][\"total_count\"]\n",
    "# print \"Likes:\", post_desc_list[0][\"likes\"][\"summary\"][\"total_count\"]\n",
    "# print \"Reactions:\"\n",
    "# print \"- angry\", post_desc_list[0][\"reactions_angry\"][\"summary\"][\"total_count\"]\n",
    "# print \"- haha\", post_desc_list[0][\"reactions_haha\"][\"summary\"][\"total_count\"]\n",
    "# print \"- love\", post_desc_list[0][\"reactions_love\"][\"summary\"][\"total_count\"]\n",
    "# print \"- sad\", post_desc_list[0][\"reactions_sad\"][\"summary\"][\"total_count\"]\n",
    "# print \"- wow\", post_desc_list[0][\"reactions_wow\"][\"summary\"][\"total_count\"]"
   ]
  }
 ],
 "metadata": {
  "kernelspec": {
   "display_name": "Python 2",
   "language": "python",
   "name": "python2"
  },
  "language_info": {
   "codemirror_mode": {
    "name": "ipython",
    "version": 2
   },
   "file_extension": ".py",
   "mimetype": "text/x-python",
   "name": "python",
   "nbconvert_exporter": "python",
   "pygments_lexer": "ipython2",
   "version": "2.7.10"
  }
 },
 "nbformat": 4,
 "nbformat_minor": 1
}
