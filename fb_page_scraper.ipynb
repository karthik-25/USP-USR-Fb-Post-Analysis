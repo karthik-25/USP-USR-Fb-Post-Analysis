{
 "cells": [
  {
   "cell_type": "code",
   "execution_count": 2,
   "metadata": {
    "collapsed": false
   },
   "outputs": [
    {
     "name": "stdout",
     "output_type": "stream",
     "text": [
      "[u'125845680811480_1347625838633452',\n",
      " u'125845680811480_1347621585300544',\n",
      " u'125845680811480_1345263892202980',\n",
      " u'125845680811480_1344119432317426',\n",
      " u'125845680811480_1344095408986495',\n",
      " u'125845680811480_1344091652320204',\n",
      " u'125845680811480_1342789082450461',\n",
      " u'125845680811480_1342761115786591',\n",
      " u'125845680811480_1341667435895959',\n",
      " u'125845680811480_1340657695996933',\n",
      " u'125845680811480_1339646786098024',\n",
      " u'125845680811480_1338708569525179',\n",
      " u'125845680811480_1337171789678857',\n",
      " u'125845680811480_1335883193141050',\n",
      " u'125845680811480_1335365573192812',\n",
      " u'125845680811480_1333895956673107',\n",
      " u'125845680811480_1331382800257756',\n",
      " u'125845680811480_1331138300282206',\n",
      " u'125845680811480_1330174957045207',\n",
      " u'125845680811480_1328492730546763',\n",
      " u'125845680811480_1328491923880177',\n",
      " u'125845680811480_1326593457403357',\n",
      " u'125845680811480_1324516000944436',\n",
      " u'125845680811480_1322733921122644',\n",
      " u'125845680811480_1321693731226663']\n"
     ]
    }
   ],
   "source": [
    "import facebook\n",
    "import json\n",
    "import pprint\n",
    "\n",
    "# Facebook access token hardcoded. Get this from Facebook Graph Explorer\n",
    "ACCESS_TOKEN = \"\"\n",
    "\n",
    "#Making API call to get all posts for given object ID\n",
    "graph = facebook.GraphAPI(access_token=ACCESS_TOKEN, version='2.7')\n",
    "all_posts = graph.get_object(id='leehsienloong/posts')\n",
    "\n",
    "post_list = all_posts[\"data\"]\n",
    "post_id_list= []\n",
    "\n",
    "for post in post_list:\n",
    "    post_id_list.append(post[\"id\"])\n",
    "\n",
    "pprint.pprint(post_id_list)"
   ]
  },
  {
   "cell_type": "code",
   "execution_count": null,
   "metadata": {
    "collapsed": true
   },
   "outputs": [],
   "source": []
  }
 ],
 "metadata": {
  "kernelspec": {
   "display_name": "Python 2",
   "language": "python",
   "name": "python2"
  },
  "language_info": {
   "codemirror_mode": {
    "name": "ipython",
    "version": 2
   },
   "file_extension": ".py",
   "mimetype": "text/x-python",
   "name": "python",
   "nbconvert_exporter": "python",
   "pygments_lexer": "ipython2",
   "version": "2.7.10"
  }
 },
 "nbformat": 4,
 "nbformat_minor": 1
}
