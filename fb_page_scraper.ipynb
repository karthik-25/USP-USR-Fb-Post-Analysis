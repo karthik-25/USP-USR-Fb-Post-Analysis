{
 "cells": [
  {
   "cell_type": "code",
   "execution_count": 55,
   "metadata": {
    "collapsed": true
   },
   "outputs": [],
   "source": [
    "import facebook\n",
    "import json\n",
    "import pprint\n",
    "import csv"
   ]
  },
  {
   "cell_type": "code",
   "execution_count": 56,
   "metadata": {
    "collapsed": true
   },
   "outputs": [],
   "source": [
    "# Facebook access token hardcoded. Get this from Facebook Graph Explorer\n",
    "ACCESS_TOKEN = \"EAACEdEose0cBAN4VZAjRBZBdxUEnmwSDMSZBbnZBbWAD8Erclx7ZBDGAGHKjhjytVLSSvlk6MWfYQAqH1Iw85daT4U857a8RFFgFz41con0D1IHM4ZA5Xf8ipElRTasRfTqon0ogXQZBE1iPGJGTpCfKkKCrJeI1w1XGxUkGnx3xQZDZD\""
   ]
  },
  {
   "cell_type": "code",
   "execution_count": 57,
   "metadata": {
    "collapsed": false
   },
   "outputs": [],
   "source": [
    "# Making API call to get all posts for given ID (in this case, politician's page)\n",
    "graph = facebook.GraphAPI(access_token=ACCESS_TOKEN, version='2.7')\n",
    "all_posts = graph.get_object(id='leehsienloong/posts')"
   ]
  },
  {
   "cell_type": "code",
   "execution_count": 58,
   "metadata": {
    "collapsed": true
   },
   "outputs": [],
   "source": [
    "# Creating a list of post IDs from the JSON data (returned from API call)  \n",
    "post_id_list= []\n",
    "\n",
    "for post in all_posts[\"data\"]:\n",
    "    post_id_list.append(post[\"id\"])"
   ]
  },
  {
   "cell_type": "code",
   "execution_count": 64,
   "metadata": {
    "collapsed": false
   },
   "outputs": [
    {
     "name": "stdout",
     "output_type": "stream",
     "text": [
      "25\n",
      "{u'comments': {u'data': [],\n",
      "               u'summary': {u'can_comment': True,\n",
      "                            u'order': u'ranked',\n",
      "                            u'total_count': 350}},\n",
      " u'id': u'125845680811480_1347625838633452',\n",
      " u'likes': {u'data': [],\n",
      "            u'summary': {u'can_like': True,\n",
      "                         u'has_liked': False,\n",
      "                         u'total_count': 7836}},\n",
      " u'message': u'For everyone celebrating #ChineseNewYear, I hope you are all prepared! Tonight, Chinese families will be gathering for their reunion dinner. If you can\\u2019t make it tonight because of work or other reasons, I hope you have arranged to celebrate it earlier, or hold it on another night. The reunion dinner is an ancient tradition, reminding us of what is truly important in life as we enter into the New Year \\u2013 family, loved ones and friends. \\n\\nThe lunar new year is also a time to reflect on what others have done for us and how we can pay it forward for our future generations. Find out more from my Chinese New Year Message by clicking on the article below.\\n\\nMay you have a joyful reunion dinner and an abundance of happiness, health and wealth in the Rooster Year! \\u2013 LHL\\n\\n\\u519c\\u5386\\u65b0\\u5e74\\u662f\\u9616\\u5bb6\\u540c\\u6b22\\u5171\\u5e86\\u3001\\u5171\\u4eab\\u5929\\u4f26\\u7684\\u91cd\\u8981\\u8282\\u65e5\\uff0c \\u4e5f\\u662f\\u8ba9\\u6211\\u4eec\\u53cd\\u601d\\u8fc7\\u53bb\\uff0c\\u5e76\\u4e14\\u611f\\u6069\\u60dc\\u798f\\u7684\\u65f6\\u523b\\u3002\\u5728\\u56de\\u987e\\u8fc7\\u53bb\\u65f6\\uff0c\\u6211\\u4eec\\u5fc5\\u987b\\u5c55\\u671b\\u672a\\u6765\\uff0c \\u672a\\u96e8\\u7ef8\\u7f2a\\uff0c \\u4ee5\\u5e94\\u4ed8\\u672a\\u6765\\u7684\\u6311\\u6218\\u3002\\u66f4\\u591a\\u8be6\\u60c5\\u5728\\u65b0\\u6625\\u732e\\u8bcd\\u91cc\\uff0c\\u8bf7\\u70b9\\u51fb\\u4ee5\\u4e0b http://bit.ly/2j9GXWE.\\n\\n\\u8c28\\u795d\\u5927\\u5bb6\\u9e21\\u5e74\\u5927\\u5409\\u3001\\u4e07\\u4e8b\\u5982\\u610f\\u3001\\u65b0\\u5e74\\u5feb\\u4e50\\uff01\\u2013 \\u674e\\u663e\\u9f99',\n",
      " u'reactions_angry': {u'data': [], u'summary': {u'total_count': 0}},\n",
      " u'reactions_haha': {u'data': [], u'summary': {u'total_count': 5}},\n",
      " u'reactions_love': {u'data': [], u'summary': {u'total_count': 319}},\n",
      " u'reactions_sad': {u'data': [], u'summary': {u'total_count': 2}},\n",
      " u'reactions_wow': {u'data': [], u'summary': {u'total_count': 18}}}\n"
     ]
    }
   ],
   "source": [
    "# Loop through each post, retrieve relevant post information (message, likes count, reactions count, comments count)\n",
    "# Store data in list. Each element is still in JSON format.\n",
    "post_desc_list = []\n",
    "fields_required = \"message, shares, comments.limit(0).summary(true), likes.limit(0).summary(true),reactions.type(LOVE).limit(0).summary(total_count).as(reactions_love),reactions.type(WOW).limit(0).summary(total_count).as(reactions_wow),reactions.type(HAHA).limit(0).summary(total_count).as(reactions_haha),reactions.type(SAD).limit(0).summary(total_count).as(reactions_sad),reactions.type(ANGRY).limit(0).summary(total_count).as(reactions_angry)\"\n",
    "\n",
    "for ids in post_id_list:\n",
    "    post_desc_list.append(graph.get_object(id=ids, fields=fields_required))\n",
    "    \n",
    "print len(post_desc_list)\n",
    "pprint.pprint(post_desc_list[3])"
   ]
  },
  {
   "cell_type": "code",
   "execution_count": 67,
   "metadata": {
    "collapsed": false
   },
   "outputs": [
    {
     "name": "stdout",
     "output_type": "stream",
     "text": [
      "26 done\n"
     ]
    }
   ],
   "source": [
    "# Loop through post_desc_list, Each interation, retrieve relevant info, create row and write into csv file\n",
    "\n",
    "headers = [\"No.\",\"status\",\"comments_count\",\"shares_count\",\"likes_count\",\"angry_count\",\"haha_count\",\"love_count\",\"sad_count\",\"wow_count\"]\n",
    "\n",
    "with open('datafile.csv', 'wb') as f:\n",
    "    w = csv.writer(f, delimiter=\",\")\n",
    "    w.writerow(headers)\n",
    "    count = 1\n",
    "    for post_desc in post_desc_list:\n",
    "        \n",
    "        try: \n",
    "            status_str = str(post_desc[\"message\"].encode('utf8'))\n",
    "        except KeyError:\n",
    "            status_str = \"\"\n",
    "        \n",
    "        comments_count = str(post_desc[\"comments\"][\"summary\"][\"total_count\"])\n",
    "        \n",
    "        try:\n",
    "            shares_count = str(post_desc[\"shares\"][\"count\"])\n",
    "        except KeyError:\n",
    "            shares_count = 0\n",
    "        \n",
    "        likes_count = str(post_desc[\"likes\"][\"summary\"][\"total_count\"])\n",
    "        angry_count = str(post_desc[\"reactions_angry\"][\"summary\"][\"total_count\"])\n",
    "        haha_count = str(post_desc[\"reactions_haha\"][\"summary\"][\"total_count\"])\n",
    "        love_count = str(post_desc[\"reactions_love\"][\"summary\"][\"total_count\"])\n",
    "        sad_count = str(post_desc[\"reactions_sad\"][\"summary\"][\"total_count\"])\n",
    "        wow_count = str(post_desc[\"reactions_wow\"][\"summary\"][\"total_count\"])\n",
    "        \n",
    "        row_string = [count,status_str,comments_count,shares_count,likes_count,angry_count,haha_count,love_count,sad_count,wow_count]\n",
    "        w.writerow(row_string)\n",
    "        count += 1\n",
    "print count-1,\"done\""
   ]
  },
  {
   "cell_type": "code",
   "execution_count": 55,
   "metadata": {
    "collapsed": false
   },
   "outputs": [
    {
     "ename": "AttributeError",
     "evalue": "'list' object has no attribute 'encode'",
     "output_type": "error",
     "traceback": [
      "\u001b[0;31m---------------------------------------------------------------------------\u001b[0m",
      "\u001b[0;31mAttributeError\u001b[0m                            Traceback (most recent call last)",
      "\u001b[0;32m<ipython-input-55-d7b872558bba>\u001b[0m in \u001b[0;36m<module>\u001b[0;34m()\u001b[0m\n\u001b[1;32m     20\u001b[0m     \u001b[0mw\u001b[0m \u001b[0;34m=\u001b[0m \u001b[0mcsv\u001b[0m\u001b[0;34m.\u001b[0m\u001b[0mDictWriter\u001b[0m\u001b[0;34m(\u001b[0m\u001b[0mf\u001b[0m\u001b[0;34m,\u001b[0m \u001b[0mdata_dict\u001b[0m\u001b[0;34m.\u001b[0m\u001b[0mkeys\u001b[0m\u001b[0;34m(\u001b[0m\u001b[0;34m)\u001b[0m\u001b[0;34m)\u001b[0m\u001b[0;34m\u001b[0m\u001b[0m\n\u001b[1;32m     21\u001b[0m     \u001b[0mw\u001b[0m\u001b[0;34m.\u001b[0m\u001b[0mwriteheader\u001b[0m\u001b[0;34m(\u001b[0m\u001b[0;34m)\u001b[0m\u001b[0;34m\u001b[0m\u001b[0m\n\u001b[0;32m---> 22\u001b[0;31m     \u001b[0mw\u001b[0m\u001b[0;34m.\u001b[0m\u001b[0mwriterow\u001b[0m\u001b[0;34m(\u001b[0m\u001b[0;34m{\u001b[0m\u001b[0mk\u001b[0m\u001b[0;34m:\u001b[0m\u001b[0mv\u001b[0m\u001b[0;34m.\u001b[0m\u001b[0mencode\u001b[0m\u001b[0;34m(\u001b[0m\u001b[0;34m'utf8'\u001b[0m\u001b[0;34m)\u001b[0m \u001b[0;32mfor\u001b[0m \u001b[0mk\u001b[0m\u001b[0;34m,\u001b[0m\u001b[0mv\u001b[0m \u001b[0;32min\u001b[0m \u001b[0mdata_dict\u001b[0m\u001b[0;34m.\u001b[0m\u001b[0mitems\u001b[0m\u001b[0;34m(\u001b[0m\u001b[0;34m)\u001b[0m\u001b[0;34m}\u001b[0m\u001b[0;34m)\u001b[0m\u001b[0;34m\u001b[0m\u001b[0m\n\u001b[0m\u001b[1;32m     23\u001b[0m \u001b[0;34m\u001b[0m\u001b[0m\n\u001b[1;32m     24\u001b[0m \u001b[0;32mprint\u001b[0m \u001b[0;34m\"done\"\u001b[0m\u001b[0;34m\u001b[0m\u001b[0m\n",
      "\u001b[0;32m<ipython-input-55-d7b872558bba>\u001b[0m in \u001b[0;36m<dictcomp>\u001b[0;34m((k, v))\u001b[0m\n\u001b[1;32m     20\u001b[0m     \u001b[0mw\u001b[0m \u001b[0;34m=\u001b[0m \u001b[0mcsv\u001b[0m\u001b[0;34m.\u001b[0m\u001b[0mDictWriter\u001b[0m\u001b[0;34m(\u001b[0m\u001b[0mf\u001b[0m\u001b[0;34m,\u001b[0m \u001b[0mdata_dict\u001b[0m\u001b[0;34m.\u001b[0m\u001b[0mkeys\u001b[0m\u001b[0;34m(\u001b[0m\u001b[0;34m)\u001b[0m\u001b[0;34m)\u001b[0m\u001b[0;34m\u001b[0m\u001b[0m\n\u001b[1;32m     21\u001b[0m     \u001b[0mw\u001b[0m\u001b[0;34m.\u001b[0m\u001b[0mwriteheader\u001b[0m\u001b[0;34m(\u001b[0m\u001b[0;34m)\u001b[0m\u001b[0;34m\u001b[0m\u001b[0m\n\u001b[0;32m---> 22\u001b[0;31m     \u001b[0mw\u001b[0m\u001b[0;34m.\u001b[0m\u001b[0mwriterow\u001b[0m\u001b[0;34m(\u001b[0m\u001b[0;34m{\u001b[0m\u001b[0mk\u001b[0m\u001b[0;34m:\u001b[0m\u001b[0mv\u001b[0m\u001b[0;34m.\u001b[0m\u001b[0mencode\u001b[0m\u001b[0;34m(\u001b[0m\u001b[0;34m'utf8'\u001b[0m\u001b[0;34m)\u001b[0m \u001b[0;32mfor\u001b[0m \u001b[0mk\u001b[0m\u001b[0;34m,\u001b[0m\u001b[0mv\u001b[0m \u001b[0;32min\u001b[0m \u001b[0mdata_dict\u001b[0m\u001b[0;34m.\u001b[0m\u001b[0mitems\u001b[0m\u001b[0;34m(\u001b[0m\u001b[0;34m)\u001b[0m\u001b[0;34m}\u001b[0m\u001b[0;34m)\u001b[0m\u001b[0;34m\u001b[0m\u001b[0m\n\u001b[0m\u001b[1;32m     23\u001b[0m \u001b[0;34m\u001b[0m\u001b[0m\n\u001b[1;32m     24\u001b[0m \u001b[0;32mprint\u001b[0m \u001b[0;34m\"done\"\u001b[0m\u001b[0;34m\u001b[0m\u001b[0m\n",
      "\u001b[0;31mAttributeError\u001b[0m: 'list' object has no attribute 'encode'"
     ]
    }
   ],
   "source": [
    "data_dict = {}\n",
    "\n",
    "for item in post_desc_list:\n",
    "    data_dict[\"message\"] = item[\"message\"]\n",
    "    data_dict[\"comments\"] = str(item[\"comments\"][\"summary\"][\"total_count\"])\n",
    "    data_dict[\"likes\"] = str(item[\"likes\"][\"summary\"][\"total_count\"])\n",
    "    data_dict[\"angry\"] = str(item[\"reactions_angry\"][\"summary\"][\"total_count\"])\n",
    "    data_dict[\"haha\"] = str(item[\"reactions_haha\"][\"summary\"][\"total_count\"])\n",
    "    data_dict[\"love\"] = str(item[\"reactions_love\"][\"summary\"][\"total_count\"])\n",
    "    data_dict[\"sad\"] = str(item[\"reactions_sad\"][\"summary\"][\"total_count\"])\n",
    "    data_dict[\"wow\"] = str(item[\"reactions_wow\"][\"summary\"][\"total_count\"])\n",
    "\n",
    "#print data_dict\n",
    "\n",
    "import csv\n",
    "\n",
    "#new_dict = dict((k.encode('ascii'), v) for (k, v) in data_dict.items())\n",
    "#print new_dict\n",
    "with open('datafile.csv', 'wb') as f:\n",
    "    w = csv.DictWriter(f, data_dict.keys())\n",
    "    w.writeheader()\n",
    "    w.writerow({k:v.encode('utf8') for k,v in data_dict.items()})\n",
    "    \n",
    "print \"done\"\n",
    "\n",
    "# print \"Status:\", post_desc_list[0][\"message\"]\n",
    "# print \"Comments:\", post_desc_list[0][\"comments\"][\"summary\"][\"total_count\"]\n",
    "# print \"Likes:\", post_desc_list[0][\"likes\"][\"summary\"][\"total_count\"]\n",
    "# print \"Reactions:\"\n",
    "# print \"- angry\", post_desc_list[0][\"reactions_angry\"][\"summary\"][\"total_count\"]\n",
    "# print \"- haha\", post_desc_list[0][\"reactions_haha\"][\"summary\"][\"total_count\"]\n",
    "# print \"- love\", post_desc_list[0][\"reactions_love\"][\"summary\"][\"total_count\"]\n",
    "# print \"- sad\", post_desc_list[0][\"reactions_sad\"][\"summary\"][\"total_count\"]\n",
    "# print \"- wow\", post_desc_list[0][\"reactions_wow\"][\"summary\"][\"total_count\"]"
   ]
  }
 ],
 "metadata": {
  "kernelspec": {
   "display_name": "Python 2",
   "language": "python",
   "name": "python2"
  },
  "language_info": {
   "codemirror_mode": {
    "name": "ipython",
    "version": 2
   },
   "file_extension": ".py",
   "mimetype": "text/x-python",
   "name": "python",
   "nbconvert_exporter": "python",
   "pygments_lexer": "ipython2",
   "version": "2.7.10"
  }
 },
 "nbformat": 4,
 "nbformat_minor": 1
}
